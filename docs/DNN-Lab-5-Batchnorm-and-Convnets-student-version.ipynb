{
  "nbformat": 4,
  "nbformat_minor": 0,
  "metadata": {
    "colab": {
      "provenance": []
    },
    "kernelspec": {
      "name": "python3",
      "display_name": "Python 3"
    },
    "language_info": {
      "name": "python"
    },
    "widgets": {
      "application/vnd.jupyter.widget-state+json": {
        "8dcf9fb2e17f430292f3d01a932ff97b": {
          "model_module": "jupyterlab-plotly",
          "model_name": "FigureModel",
          "model_module_version": "^5.24.1",
          "state": {
            "_config": {
              "plotlyServerURL": "https://plot.ly"
            },
            "_data": [
              {
                "mode": "lines+markers",
                "name": "Linear layer 0",
                "x": [],
                "y": [],
                "type": "scatter",
                "uid": "cec861e2-bd02-47dd-95fb-624873874d88"
              },
              {
                "mode": "lines+markers",
                "name": "Linear layer 1",
                "x": [],
                "y": [],
                "type": "scatter",
                "uid": "19151c06-730f-4966-a5fd-7dab9404c3d4"
              },
              {
                "mode": "lines+markers",
                "name": "Linear layer 2",
                "x": [],
                "y": [],
                "type": "scatter",
                "uid": "6f262a2f-1f0c-4cc0-b50e-88bc3115b2bf"
              },
              {
                "mode": "lines+markers",
                "name": "Linear layer 3",
                "x": [],
                "y": [],
                "type": "scatter",
                "uid": "a50ea9b5-089a-496b-91df-6c7a8c6f7166"
              },
              {
                "mode": "lines+markers",
                "name": "Linear layer 4",
                "x": [],
                "y": [],
                "type": "scatter",
                "uid": "7d47f521-894e-478b-a70c-5252344487cd"
              },
              {
                "mode": "lines+markers",
                "name": "Linear layer 5",
                "x": [],
                "y": [],
                "type": "scatter",
                "uid": "c9a076a3-2ad5-49d9-bce5-a90154932693"
              }
            ],
            "_dom_classes": [],
            "_js2py_layoutDelta": {},
            "_js2py_pointsCallback": {},
            "_js2py_relayout": {},
            "_js2py_restyle": {},
            "_js2py_traceDeltas": {},
            "_js2py_update": {},
            "_last_layout_edit_id": 192,
            "_last_trace_edit_id": 192,
            "_layout": {
              "height": 400,
              "margin": {
                "b": 10,
                "t": 60
              },
              "template": {
                "data": {
                  "barpolar": [
                    {
                      "marker": {
                        "line": {
                          "color": "#E5ECF6",
                          "width": 0.5
                        },
                        "pattern": {
                          "fillmode": "overlay",
                          "size": 10,
                          "solidity": 0.2
                        }
                      },
                      "type": "barpolar"
                    }
                  ],
                  "bar": [
                    {
                      "error_x": {
                        "color": "#2a3f5f"
                      },
                      "error_y": {
                        "color": "#2a3f5f"
                      },
                      "marker": {
                        "line": {
                          "color": "#E5ECF6",
                          "width": 0.5
                        },
                        "pattern": {
                          "fillmode": "overlay",
                          "size": 10,
                          "solidity": 0.2
                        }
                      },
                      "type": "bar"
                    }
                  ],
                  "carpet": [
                    {
                      "aaxis": {
                        "endlinecolor": "#2a3f5f",
                        "gridcolor": "white",
                        "linecolor": "white",
                        "minorgridcolor": "white",
                        "startlinecolor": "#2a3f5f"
                      },
                      "baxis": {
                        "endlinecolor": "#2a3f5f",
                        "gridcolor": "white",
                        "linecolor": "white",
                        "minorgridcolor": "white",
                        "startlinecolor": "#2a3f5f"
                      },
                      "type": "carpet"
                    }
                  ],
                  "choropleth": [
                    {
                      "colorbar": {
                        "outlinewidth": 0,
                        "ticks": ""
                      },
                      "type": "choropleth"
                    }
                  ],
                  "contourcarpet": [
                    {
                      "colorbar": {
                        "outlinewidth": 0,
                        "ticks": ""
                      },
                      "type": "contourcarpet"
                    }
                  ],
                  "contour": [
                    {
                      "colorbar": {
                        "outlinewidth": 0,
                        "ticks": ""
                      },
                      "colorscale": [
                        [
                          0,
                          "#0d0887"
                        ],
                        [
                          0.1111111111111111,
                          "#46039f"
                        ],
                        [
                          0.2222222222222222,
                          "#7201a8"
                        ],
                        [
                          0.3333333333333333,
                          "#9c179e"
                        ],
                        [
                          0.4444444444444444,
                          "#bd3786"
                        ],
                        [
                          0.5555555555555556,
                          "#d8576b"
                        ],
                        [
                          0.6666666666666666,
                          "#ed7953"
                        ],
                        [
                          0.7777777777777778,
                          "#fb9f3a"
                        ],
                        [
                          0.8888888888888888,
                          "#fdca26"
                        ],
                        [
                          1,
                          "#f0f921"
                        ]
                      ],
                      "type": "contour"
                    }
                  ],
                  "heatmapgl": [
                    {
                      "colorbar": {
                        "outlinewidth": 0,
                        "ticks": ""
                      },
                      "colorscale": [
                        [
                          0,
                          "#0d0887"
                        ],
                        [
                          0.1111111111111111,
                          "#46039f"
                        ],
                        [
                          0.2222222222222222,
                          "#7201a8"
                        ],
                        [
                          0.3333333333333333,
                          "#9c179e"
                        ],
                        [
                          0.4444444444444444,
                          "#bd3786"
                        ],
                        [
                          0.5555555555555556,
                          "#d8576b"
                        ],
                        [
                          0.6666666666666666,
                          "#ed7953"
                        ],
                        [
                          0.7777777777777778,
                          "#fb9f3a"
                        ],
                        [
                          0.8888888888888888,
                          "#fdca26"
                        ],
                        [
                          1,
                          "#f0f921"
                        ]
                      ],
                      "type": "heatmapgl"
                    }
                  ],
                  "heatmap": [
                    {
                      "colorbar": {
                        "outlinewidth": 0,
                        "ticks": ""
                      },
                      "colorscale": [
                        [
                          0,
                          "#0d0887"
                        ],
                        [
                          0.1111111111111111,
                          "#46039f"
                        ],
                        [
                          0.2222222222222222,
                          "#7201a8"
                        ],
                        [
                          0.3333333333333333,
                          "#9c179e"
                        ],
                        [
                          0.4444444444444444,
                          "#bd3786"
                        ],
                        [
                          0.5555555555555556,
                          "#d8576b"
                        ],
                        [
                          0.6666666666666666,
                          "#ed7953"
                        ],
                        [
                          0.7777777777777778,
                          "#fb9f3a"
                        ],
                        [
                          0.8888888888888888,
                          "#fdca26"
                        ],
                        [
                          1,
                          "#f0f921"
                        ]
                      ],
                      "type": "heatmap"
                    }
                  ],
                  "histogram2dcontour": [
                    {
                      "colorbar": {
                        "outlinewidth": 0,
                        "ticks": ""
                      },
                      "colorscale": [
                        [
                          0,
                          "#0d0887"
                        ],
                        [
                          0.1111111111111111,
                          "#46039f"
                        ],
                        [
                          0.2222222222222222,
                          "#7201a8"
                        ],
                        [
                          0.3333333333333333,
                          "#9c179e"
                        ],
                        [
                          0.4444444444444444,
                          "#bd3786"
                        ],
                        [
                          0.5555555555555556,
                          "#d8576b"
                        ],
                        [
                          0.6666666666666666,
                          "#ed7953"
                        ],
                        [
                          0.7777777777777778,
                          "#fb9f3a"
                        ],
                        [
                          0.8888888888888888,
                          "#fdca26"
                        ],
                        [
                          1,
                          "#f0f921"
                        ]
                      ],
                      "type": "histogram2dcontour"
                    }
                  ],
                  "histogram2d": [
                    {
                      "colorbar": {
                        "outlinewidth": 0,
                        "ticks": ""
                      },
                      "colorscale": [
                        [
                          0,
                          "#0d0887"
                        ],
                        [
                          0.1111111111111111,
                          "#46039f"
                        ],
                        [
                          0.2222222222222222,
                          "#7201a8"
                        ],
                        [
                          0.3333333333333333,
                          "#9c179e"
                        ],
                        [
                          0.4444444444444444,
                          "#bd3786"
                        ],
                        [
                          0.5555555555555556,
                          "#d8576b"
                        ],
                        [
                          0.6666666666666666,
                          "#ed7953"
                        ],
                        [
                          0.7777777777777778,
                          "#fb9f3a"
                        ],
                        [
                          0.8888888888888888,
                          "#fdca26"
                        ],
                        [
                          1,
                          "#f0f921"
                        ]
                      ],
                      "type": "histogram2d"
                    }
                  ],
                  "histogram": [
                    {
                      "marker": {
                        "pattern": {
                          "fillmode": "overlay",
                          "size": 10,
                          "solidity": 0.2
                        }
                      },
                      "type": "histogram"
                    }
                  ],
                  "mesh3d": [
                    {
                      "colorbar": {
                        "outlinewidth": 0,
                        "ticks": ""
                      },
                      "type": "mesh3d"
                    }
                  ],
                  "parcoords": [
                    {
                      "line": {
                        "colorbar": {
                          "outlinewidth": 0,
                          "ticks": ""
                        }
                      },
                      "type": "parcoords"
                    }
                  ],
                  "pie": [
                    {
                      "automargin": true,
                      "type": "pie"
                    }
                  ],
                  "scatter3d": [
                    {
                      "line": {
                        "colorbar": {
                          "outlinewidth": 0,
                          "ticks": ""
                        }
                      },
                      "marker": {
                        "colorbar": {
                          "outlinewidth": 0,
                          "ticks": ""
                        }
                      },
                      "type": "scatter3d"
                    }
                  ],
                  "scattercarpet": [
                    {
                      "marker": {
                        "colorbar": {
                          "outlinewidth": 0,
                          "ticks": ""
                        }
                      },
                      "type": "scattercarpet"
                    }
                  ],
                  "scattergeo": [
                    {
                      "marker": {
                        "colorbar": {
                          "outlinewidth": 0,
                          "ticks": ""
                        }
                      },
                      "type": "scattergeo"
                    }
                  ],
                  "scattergl": [
                    {
                      "marker": {
                        "colorbar": {
                          "outlinewidth": 0,
                          "ticks": ""
                        }
                      },
                      "type": "scattergl"
                    }
                  ],
                  "scattermapbox": [
                    {
                      "marker": {
                        "colorbar": {
                          "outlinewidth": 0,
                          "ticks": ""
                        }
                      },
                      "type": "scattermapbox"
                    }
                  ],
                  "scatterpolargl": [
                    {
                      "marker": {
                        "colorbar": {
                          "outlinewidth": 0,
                          "ticks": ""
                        }
                      },
                      "type": "scatterpolargl"
                    }
                  ],
                  "scatterpolar": [
                    {
                      "marker": {
                        "colorbar": {
                          "outlinewidth": 0,
                          "ticks": ""
                        }
                      },
                      "type": "scatterpolar"
                    }
                  ],
                  "scatter": [
                    {
                      "fillpattern": {
                        "fillmode": "overlay",
                        "size": 10,
                        "solidity": 0.2
                      },
                      "type": "scatter"
                    }
                  ],
                  "scatterternary": [
                    {
                      "marker": {
                        "colorbar": {
                          "outlinewidth": 0,
                          "ticks": ""
                        }
                      },
                      "type": "scatterternary"
                    }
                  ],
                  "surface": [
                    {
                      "colorbar": {
                        "outlinewidth": 0,
                        "ticks": ""
                      },
                      "colorscale": [
                        [
                          0,
                          "#0d0887"
                        ],
                        [
                          0.1111111111111111,
                          "#46039f"
                        ],
                        [
                          0.2222222222222222,
                          "#7201a8"
                        ],
                        [
                          0.3333333333333333,
                          "#9c179e"
                        ],
                        [
                          0.4444444444444444,
                          "#bd3786"
                        ],
                        [
                          0.5555555555555556,
                          "#d8576b"
                        ],
                        [
                          0.6666666666666666,
                          "#ed7953"
                        ],
                        [
                          0.7777777777777778,
                          "#fb9f3a"
                        ],
                        [
                          0.8888888888888888,
                          "#fdca26"
                        ],
                        [
                          1,
                          "#f0f921"
                        ]
                      ],
                      "type": "surface"
                    }
                  ],
                  "table": [
                    {
                      "cells": {
                        "fill": {
                          "color": "#EBF0F8"
                        },
                        "line": {
                          "color": "white"
                        }
                      },
                      "header": {
                        "fill": {
                          "color": "#C8D4E3"
                        },
                        "line": {
                          "color": "white"
                        }
                      },
                      "type": "table"
                    }
                  ]
                },
                "layout": {
                  "annotationdefaults": {
                    "arrowcolor": "#2a3f5f",
                    "arrowhead": 0,
                    "arrowwidth": 1
                  },
                  "autotypenumbers": "strict",
                  "coloraxis": {
                    "colorbar": {
                      "outlinewidth": 0,
                      "ticks": ""
                    }
                  },
                  "colorscale": {
                    "diverging": [
                      [
                        0,
                        "#8e0152"
                      ],
                      [
                        0.1,
                        "#c51b7d"
                      ],
                      [
                        0.2,
                        "#de77ae"
                      ],
                      [
                        0.3,
                        "#f1b6da"
                      ],
                      [
                        0.4,
                        "#fde0ef"
                      ],
                      [
                        0.5,
                        "#f7f7f7"
                      ],
                      [
                        0.6,
                        "#e6f5d0"
                      ],
                      [
                        0.7,
                        "#b8e186"
                      ],
                      [
                        0.8,
                        "#7fbc41"
                      ],
                      [
                        0.9,
                        "#4d9221"
                      ],
                      [
                        1,
                        "#276419"
                      ]
                    ],
                    "sequential": [
                      [
                        0,
                        "#0d0887"
                      ],
                      [
                        0.1111111111111111,
                        "#46039f"
                      ],
                      [
                        0.2222222222222222,
                        "#7201a8"
                      ],
                      [
                        0.3333333333333333,
                        "#9c179e"
                      ],
                      [
                        0.4444444444444444,
                        "#bd3786"
                      ],
                      [
                        0.5555555555555556,
                        "#d8576b"
                      ],
                      [
                        0.6666666666666666,
                        "#ed7953"
                      ],
                      [
                        0.7777777777777778,
                        "#fb9f3a"
                      ],
                      [
                        0.8888888888888888,
                        "#fdca26"
                      ],
                      [
                        1,
                        "#f0f921"
                      ]
                    ],
                    "sequentialminus": [
                      [
                        0,
                        "#0d0887"
                      ],
                      [
                        0.1111111111111111,
                        "#46039f"
                      ],
                      [
                        0.2222222222222222,
                        "#7201a8"
                      ],
                      [
                        0.3333333333333333,
                        "#9c179e"
                      ],
                      [
                        0.4444444444444444,
                        "#bd3786"
                      ],
                      [
                        0.5555555555555556,
                        "#d8576b"
                      ],
                      [
                        0.6666666666666666,
                        "#ed7953"
                      ],
                      [
                        0.7777777777777778,
                        "#fb9f3a"
                      ],
                      [
                        0.8888888888888888,
                        "#fdca26"
                      ],
                      [
                        1,
                        "#f0f921"
                      ]
                    ]
                  },
                  "colorway": [
                    "#636efa",
                    "#EF553B",
                    "#00cc96",
                    "#ab63fa",
                    "#FFA15A",
                    "#19d3f3",
                    "#FF6692",
                    "#B6E880",
                    "#FF97FF",
                    "#FECB52"
                  ],
                  "font": {
                    "color": "#2a3f5f"
                  },
                  "geo": {
                    "bgcolor": "white",
                    "lakecolor": "white",
                    "landcolor": "#E5ECF6",
                    "showlakes": true,
                    "showland": true,
                    "subunitcolor": "white"
                  },
                  "hoverlabel": {
                    "align": "left"
                  },
                  "hovermode": "closest",
                  "mapbox": {
                    "style": "light"
                  },
                  "paper_bgcolor": "white",
                  "plot_bgcolor": "#E5ECF6",
                  "polar": {
                    "angularaxis": {
                      "gridcolor": "white",
                      "linecolor": "white",
                      "ticks": ""
                    },
                    "bgcolor": "#E5ECF6",
                    "radialaxis": {
                      "gridcolor": "white",
                      "linecolor": "white",
                      "ticks": ""
                    }
                  },
                  "scene": {
                    "xaxis": {
                      "backgroundcolor": "#E5ECF6",
                      "gridcolor": "white",
                      "gridwidth": 2,
                      "linecolor": "white",
                      "showbackground": true,
                      "ticks": "",
                      "zerolinecolor": "white"
                    },
                    "yaxis": {
                      "backgroundcolor": "#E5ECF6",
                      "gridcolor": "white",
                      "gridwidth": 2,
                      "linecolor": "white",
                      "showbackground": true,
                      "ticks": "",
                      "zerolinecolor": "white"
                    },
                    "zaxis": {
                      "backgroundcolor": "#E5ECF6",
                      "gridcolor": "white",
                      "gridwidth": 2,
                      "linecolor": "white",
                      "showbackground": true,
                      "ticks": "",
                      "zerolinecolor": "white"
                    }
                  },
                  "shapedefaults": {
                    "line": {
                      "color": "#2a3f5f"
                    }
                  },
                  "ternary": {
                    "aaxis": {
                      "gridcolor": "white",
                      "linecolor": "white",
                      "ticks": ""
                    },
                    "baxis": {
                      "gridcolor": "white",
                      "linecolor": "white",
                      "ticks": ""
                    },
                    "bgcolor": "#E5ECF6",
                    "caxis": {
                      "gridcolor": "white",
                      "linecolor": "white",
                      "ticks": ""
                    }
                  },
                  "title": {
                    "x": 0.05
                  },
                  "xaxis": {
                    "automargin": true,
                    "gridcolor": "white",
                    "linecolor": "white",
                    "ticks": "",
                    "title": {
                      "standoff": 15
                    },
                    "zerolinecolor": "white",
                    "zerolinewidth": 2
                  },
                  "yaxis": {
                    "automargin": true,
                    "gridcolor": "white",
                    "linecolor": "white",
                    "ticks": "",
                    "title": {
                      "standoff": 15
                    },
                    "zerolinecolor": "white",
                    "zerolinewidth": 2
                  }
                }
              },
              "title": {
                "text": "Gradient standard deviation to weight standard deviation ratio",
                "x": 0.5
              },
              "width": 1500,
              "xaxis": {
                "title": {
                  "text": "Epoch"
                }
              },
              "yaxis": {
                "title": {
                  "text": "Gradient to weight ratio (log scale)"
                },
                "type": "log"
              }
            },
            "_model_module": "jupyterlab-plotly",
            "_model_module_version": "^5.24.1",
            "_model_name": "FigureModel",
            "_py2js_addTraces": {},
            "_py2js_animate": {},
            "_py2js_deleteTraces": {},
            "_py2js_moveTraces": {},
            "_py2js_relayout": {},
            "_py2js_removeLayoutProps": {},
            "_py2js_removeTraceProps": {},
            "_py2js_restyle": null,
            "_py2js_update": {},
            "_view_count": 1,
            "_view_module": "jupyterlab-plotly",
            "_view_module_version": "^5.24.1",
            "_view_name": "FigureView"
          }
        },
        "32fc467bbff94338a8fec068cebe488c": {
          "model_module": "jupyterlab-plotly",
          "model_name": "FigureModel",
          "model_module_version": "^5.24.1",
          "state": {
            "_config": {
              "plotlyServerURL": "https://plot.ly"
            },
            "_data": [
              {
                "legendgroup": "0",
                "line": {
                  "color": "rgba(99, 110, 250,0.18)"
                },
                "mode": "lines",
                "name": "Epoch 1",
                "xaxis": "x",
                "yaxis": "y",
                "type": "scatter",
                "uid": "0b6d2d44-a560-4832-9439-381d2d1d8007"
              },
              {
                "legendgroup": "0",
                "line": {
                  "color": "rgba(99, 110, 250,0.27)"
                },
                "mode": "lines",
                "name": "Epoch 4",
                "xaxis": "x",
                "yaxis": "y",
                "type": "scatter",
                "uid": "9fe4d806-6887-40ec-8093-43047f48b6da"
              },
              {
                "legendgroup": "0",
                "line": {
                  "color": "rgba(99, 110, 250,0.36)"
                },
                "mode": "lines",
                "name": "Epoch 7",
                "xaxis": "x",
                "yaxis": "y",
                "type": "scatter",
                "uid": "ccb566d6-6830-4411-9e9a-86c090b186fa"
              },
              {
                "legendgroup": "0",
                "line": {
                  "color": "rgba(99, 110, 250,0.44999999999999996)"
                },
                "mode": "lines",
                "name": "Epoch 10",
                "xaxis": "x",
                "yaxis": "y",
                "type": "scatter",
                "uid": "20099f2d-eeb1-40f6-8897-4d00e72dde3f"
              },
              {
                "legendgroup": "0",
                "line": {
                  "color": "rgba(99, 110, 250,0.54)"
                },
                "mode": "lines",
                "name": "Epoch 13",
                "xaxis": "x",
                "yaxis": "y",
                "type": "scatter",
                "uid": "591f756e-980c-40bd-ab78-30e444096bed"
              },
              {
                "legendgroup": "0",
                "line": {
                  "color": "rgba(99, 110, 250,0.63)"
                },
                "mode": "lines",
                "name": "Epoch 16",
                "xaxis": "x",
                "yaxis": "y",
                "type": "scatter",
                "uid": "3f2d1f72-fce7-4f94-9d9d-bf1bf9be6f96"
              },
              {
                "legendgroup": "0",
                "line": {
                  "color": "rgba(99, 110, 250,0.75)"
                },
                "mode": "lines",
                "name": "Epoch 20",
                "xaxis": "x",
                "yaxis": "y",
                "type": "scatter",
                "uid": "cb87ce94-dd0c-4c26-a72d-0b7860a288b9"
              },
              {
                "legendgroup": "1",
                "line": {
                  "color": "rgba(239, 85, 59,0.18)"
                },
                "mode": "lines",
                "name": "Epoch 1",
                "xaxis": "x2",
                "yaxis": "y2",
                "type": "scatter",
                "uid": "7d848f53-bd9b-4071-8f17-0bd9ca43b468"
              },
              {
                "legendgroup": "1",
                "line": {
                  "color": "rgba(239, 85, 59,0.27)"
                },
                "mode": "lines",
                "name": "Epoch 4",
                "xaxis": "x2",
                "yaxis": "y2",
                "type": "scatter",
                "uid": "6d326d81-5aac-41c5-a75d-e9a1d47a0eaf"
              },
              {
                "legendgroup": "1",
                "line": {
                  "color": "rgba(239, 85, 59,0.36)"
                },
                "mode": "lines",
                "name": "Epoch 7",
                "xaxis": "x2",
                "yaxis": "y2",
                "type": "scatter",
                "uid": "3094f5f8-669c-4edd-af10-007717beaa78"
              },
              {
                "legendgroup": "1",
                "line": {
                  "color": "rgba(239, 85, 59,0.44999999999999996)"
                },
                "mode": "lines",
                "name": "Epoch 10",
                "xaxis": "x2",
                "yaxis": "y2",
                "type": "scatter",
                "uid": "e7d38daa-49c9-4858-a640-7dfe26b19726"
              },
              {
                "legendgroup": "1",
                "line": {
                  "color": "rgba(239, 85, 59,0.54)"
                },
                "mode": "lines",
                "name": "Epoch 13",
                "xaxis": "x2",
                "yaxis": "y2",
                "type": "scatter",
                "uid": "3de0c5f2-27af-45bc-bf34-b310ad99b2ec"
              },
              {
                "legendgroup": "1",
                "line": {
                  "color": "rgba(239, 85, 59,0.63)"
                },
                "mode": "lines",
                "name": "Epoch 16",
                "xaxis": "x2",
                "yaxis": "y2",
                "type": "scatter",
                "uid": "40687501-1ec1-4df0-9604-d09260471dec"
              },
              {
                "legendgroup": "1",
                "line": {
                  "color": "rgba(239, 85, 59,0.75)"
                },
                "mode": "lines",
                "name": "Epoch 20",
                "xaxis": "x2",
                "yaxis": "y2",
                "type": "scatter",
                "uid": "9c678e00-121a-4c14-95f3-67330066c8f3"
              },
              {
                "legendgroup": "2",
                "line": {
                  "color": "rgba(0, 204, 150,0.18)"
                },
                "mode": "lines",
                "name": "Epoch 1",
                "xaxis": "x3",
                "yaxis": "y3",
                "type": "scatter",
                "uid": "2b03730d-38b0-4906-8643-14b9757a3919"
              },
              {
                "legendgroup": "2",
                "line": {
                  "color": "rgba(0, 204, 150,0.27)"
                },
                "mode": "lines",
                "name": "Epoch 4",
                "xaxis": "x3",
                "yaxis": "y3",
                "type": "scatter",
                "uid": "12879bf1-fa0f-4d04-8483-74a78511f914"
              },
              {
                "legendgroup": "2",
                "line": {
                  "color": "rgba(0, 204, 150,0.36)"
                },
                "mode": "lines",
                "name": "Epoch 7",
                "xaxis": "x3",
                "yaxis": "y3",
                "type": "scatter",
                "uid": "6ab2f942-3b47-441e-ab9a-f6524740eb1a"
              },
              {
                "legendgroup": "2",
                "line": {
                  "color": "rgba(0, 204, 150,0.44999999999999996)"
                },
                "mode": "lines",
                "name": "Epoch 10",
                "xaxis": "x3",
                "yaxis": "y3",
                "type": "scatter",
                "uid": "521b1d92-17fa-4403-8b35-2dfed2fbbb83"
              },
              {
                "legendgroup": "2",
                "line": {
                  "color": "rgba(0, 204, 150,0.54)"
                },
                "mode": "lines",
                "name": "Epoch 13",
                "xaxis": "x3",
                "yaxis": "y3",
                "type": "scatter",
                "uid": "0872bd40-b0e7-4b15-8eaf-fcf17725be2e"
              },
              {
                "legendgroup": "2",
                "line": {
                  "color": "rgba(0, 204, 150,0.63)"
                },
                "mode": "lines",
                "name": "Epoch 16",
                "xaxis": "x3",
                "yaxis": "y3",
                "type": "scatter",
                "uid": "01cfab70-510f-4e7c-8bcc-0cf93787ef32"
              },
              {
                "legendgroup": "2",
                "line": {
                  "color": "rgba(0, 204, 150,0.75)"
                },
                "mode": "lines",
                "name": "Epoch 20",
                "xaxis": "x3",
                "yaxis": "y3",
                "type": "scatter",
                "uid": "2b2b8ae6-3c69-4b94-9c78-566cb11cf5dd"
              },
              {
                "legendgroup": "3",
                "line": {
                  "color": "rgba(171, 99, 250,0.18)"
                },
                "mode": "lines",
                "name": "Epoch 1",
                "xaxis": "x4",
                "yaxis": "y4",
                "type": "scatter",
                "uid": "12f90b40-562d-4253-aced-9b271d1b167b"
              },
              {
                "legendgroup": "3",
                "line": {
                  "color": "rgba(171, 99, 250,0.27)"
                },
                "mode": "lines",
                "name": "Epoch 4",
                "xaxis": "x4",
                "yaxis": "y4",
                "type": "scatter",
                "uid": "101fcb36-db73-4907-8f39-3232b2ee9d6f"
              },
              {
                "legendgroup": "3",
                "line": {
                  "color": "rgba(171, 99, 250,0.36)"
                },
                "mode": "lines",
                "name": "Epoch 7",
                "xaxis": "x4",
                "yaxis": "y4",
                "type": "scatter",
                "uid": "baab0d8b-ea9a-44f0-9033-c359066c3aed"
              },
              {
                "legendgroup": "3",
                "line": {
                  "color": "rgba(171, 99, 250,0.44999999999999996)"
                },
                "mode": "lines",
                "name": "Epoch 10",
                "xaxis": "x4",
                "yaxis": "y4",
                "type": "scatter",
                "uid": "20daecb5-5232-4c04-a831-8e2a571ab2f0"
              },
              {
                "legendgroup": "3",
                "line": {
                  "color": "rgba(171, 99, 250,0.54)"
                },
                "mode": "lines",
                "name": "Epoch 13",
                "xaxis": "x4",
                "yaxis": "y4",
                "type": "scatter",
                "uid": "6f522102-5c6a-43f9-bf05-087b2ae3f535"
              },
              {
                "legendgroup": "3",
                "line": {
                  "color": "rgba(171, 99, 250,0.63)"
                },
                "mode": "lines",
                "name": "Epoch 16",
                "xaxis": "x4",
                "yaxis": "y4",
                "type": "scatter",
                "uid": "a16a9269-c196-4c4f-b512-ebd315e10f05"
              },
              {
                "legendgroup": "3",
                "line": {
                  "color": "rgba(171, 99, 250,0.75)"
                },
                "mode": "lines",
                "name": "Epoch 20",
                "xaxis": "x4",
                "yaxis": "y4",
                "type": "scatter",
                "uid": "b35aca5f-fc60-4b56-81b3-3f4934a7f078"
              },
              {
                "legendgroup": "4",
                "line": {
                  "color": "rgba(255, 161, 90,0.18)"
                },
                "mode": "lines",
                "name": "Epoch 1",
                "xaxis": "x5",
                "yaxis": "y5",
                "type": "scatter",
                "uid": "3c33efa4-f544-44c1-9f13-b8b503b742f5"
              },
              {
                "legendgroup": "4",
                "line": {
                  "color": "rgba(255, 161, 90,0.27)"
                },
                "mode": "lines",
                "name": "Epoch 4",
                "xaxis": "x5",
                "yaxis": "y5",
                "type": "scatter",
                "uid": "9f6c1070-650d-4a4e-90f2-4c7c81da684d"
              },
              {
                "legendgroup": "4",
                "line": {
                  "color": "rgba(255, 161, 90,0.36)"
                },
                "mode": "lines",
                "name": "Epoch 7",
                "xaxis": "x5",
                "yaxis": "y5",
                "type": "scatter",
                "uid": "fd006d9f-94e8-44de-b773-595d069b7d78"
              },
              {
                "legendgroup": "4",
                "line": {
                  "color": "rgba(255, 161, 90,0.44999999999999996)"
                },
                "mode": "lines",
                "name": "Epoch 10",
                "xaxis": "x5",
                "yaxis": "y5",
                "type": "scatter",
                "uid": "7fda44ee-b148-498a-80c6-3213d683b28b"
              },
              {
                "legendgroup": "4",
                "line": {
                  "color": "rgba(255, 161, 90,0.54)"
                },
                "mode": "lines",
                "name": "Epoch 13",
                "xaxis": "x5",
                "yaxis": "y5",
                "type": "scatter",
                "uid": "fb4158b4-1248-4654-88d7-72dc22b6bbca"
              },
              {
                "legendgroup": "4",
                "line": {
                  "color": "rgba(255, 161, 90,0.63)"
                },
                "mode": "lines",
                "name": "Epoch 16",
                "xaxis": "x5",
                "yaxis": "y5",
                "type": "scatter",
                "uid": "78bfb4d0-62d7-4ca1-820e-9d2ca2ca0130"
              },
              {
                "legendgroup": "4",
                "line": {
                  "color": "rgba(255, 161, 90,0.75)"
                },
                "mode": "lines",
                "name": "Epoch 20",
                "xaxis": "x5",
                "yaxis": "y5",
                "type": "scatter",
                "uid": "eb447566-29af-4d9c-a4a5-1550d24e7a63"
              },
              {
                "legendgroup": "5",
                "line": {
                  "color": "rgba(25, 211, 243,0.18)"
                },
                "mode": "lines",
                "name": "Epoch 1",
                "xaxis": "x6",
                "yaxis": "y6",
                "type": "scatter",
                "uid": "7a67d2bd-7002-44f1-afb7-a1b858841286"
              },
              {
                "legendgroup": "5",
                "line": {
                  "color": "rgba(25, 211, 243,0.27)"
                },
                "mode": "lines",
                "name": "Epoch 4",
                "xaxis": "x6",
                "yaxis": "y6",
                "type": "scatter",
                "uid": "fe8a2a6d-646c-4a4b-843b-fe9c1831e1ed"
              },
              {
                "legendgroup": "5",
                "line": {
                  "color": "rgba(25, 211, 243,0.36)"
                },
                "mode": "lines",
                "name": "Epoch 7",
                "xaxis": "x6",
                "yaxis": "y6",
                "type": "scatter",
                "uid": "cf474ed2-a58f-4e96-a96d-c4c67bc59298"
              },
              {
                "legendgroup": "5",
                "line": {
                  "color": "rgba(25, 211, 243,0.44999999999999996)"
                },
                "mode": "lines",
                "name": "Epoch 10",
                "xaxis": "x6",
                "yaxis": "y6",
                "type": "scatter",
                "uid": "b94eb7cb-f976-4b04-a246-354370267417"
              },
              {
                "legendgroup": "5",
                "line": {
                  "color": "rgba(25, 211, 243,0.54)"
                },
                "mode": "lines",
                "name": "Epoch 13",
                "xaxis": "x6",
                "yaxis": "y6",
                "type": "scatter",
                "uid": "16b9e219-e305-49aa-800e-a0820bcaa301"
              },
              {
                "legendgroup": "5",
                "line": {
                  "color": "rgba(25, 211, 243,0.63)"
                },
                "mode": "lines",
                "name": "Epoch 16",
                "xaxis": "x6",
                "yaxis": "y6",
                "type": "scatter",
                "uid": "fb03cb0a-c951-4a2a-a130-fc2213e86ca4"
              },
              {
                "legendgroup": "5",
                "line": {
                  "color": "rgba(25, 211, 243,0.75)"
                },
                "mode": "lines",
                "name": "Epoch 20",
                "xaxis": "x6",
                "yaxis": "y6",
                "type": "scatter",
                "uid": "b2da2d59-0e91-41da-865d-c1ea406a646a"
              }
            ],
            "_dom_classes": [],
            "_js2py_layoutDelta": {},
            "_js2py_pointsCallback": {},
            "_js2py_relayout": {},
            "_js2py_restyle": {},
            "_js2py_traceDeltas": {},
            "_js2py_update": {},
            "_last_layout_edit_id": 72,
            "_last_trace_edit_id": 72,
            "_layout": {
              "annotations": [
                {
                  "font": {
                    "size": 16
                  },
                  "showarrow": false,
                  "text": "Linear layer 0",
                  "x": 0.14444444444444446,
                  "xanchor": "center",
                  "xref": "paper",
                  "y": 1,
                  "yanchor": "bottom",
                  "yref": "paper"
                },
                {
                  "font": {
                    "size": 16
                  },
                  "showarrow": false,
                  "text": "Linear layer 1",
                  "x": 0.5,
                  "xanchor": "center",
                  "xref": "paper",
                  "y": 1,
                  "yanchor": "bottom",
                  "yref": "paper"
                },
                {
                  "font": {
                    "size": 16
                  },
                  "showarrow": false,
                  "text": "Linear layer 2",
                  "x": 0.8555555555555556,
                  "xanchor": "center",
                  "xref": "paper",
                  "y": 1,
                  "yanchor": "bottom",
                  "yref": "paper"
                },
                {
                  "font": {
                    "size": 16
                  },
                  "showarrow": false,
                  "text": "Linear layer 3",
                  "x": 0.14444444444444446,
                  "xanchor": "center",
                  "xref": "paper",
                  "y": 0.45,
                  "yanchor": "bottom",
                  "yref": "paper"
                },
                {
                  "font": {
                    "size": 16
                  },
                  "showarrow": false,
                  "text": "Linear layer 4",
                  "x": 0.5,
                  "xanchor": "center",
                  "xref": "paper",
                  "y": 0.45,
                  "yanchor": "bottom",
                  "yref": "paper"
                },
                {
                  "font": {
                    "size": 16
                  },
                  "showarrow": false,
                  "text": "Linear layer 5",
                  "x": 0.8555555555555556,
                  "xanchor": "center",
                  "xref": "paper",
                  "y": 0.45,
                  "yanchor": "bottom",
                  "yref": "paper"
                }
              ],
              "height": 800,
              "margin": {
                "b": 10,
                "t": 60
              },
              "template": {
                "data": {
                  "barpolar": [
                    {
                      "marker": {
                        "line": {
                          "color": "#E5ECF6",
                          "width": 0.5
                        },
                        "pattern": {
                          "fillmode": "overlay",
                          "size": 10,
                          "solidity": 0.2
                        }
                      },
                      "type": "barpolar"
                    }
                  ],
                  "bar": [
                    {
                      "error_x": {
                        "color": "#2a3f5f"
                      },
                      "error_y": {
                        "color": "#2a3f5f"
                      },
                      "marker": {
                        "line": {
                          "color": "#E5ECF6",
                          "width": 0.5
                        },
                        "pattern": {
                          "fillmode": "overlay",
                          "size": 10,
                          "solidity": 0.2
                        }
                      },
                      "type": "bar"
                    }
                  ],
                  "carpet": [
                    {
                      "aaxis": {
                        "endlinecolor": "#2a3f5f",
                        "gridcolor": "white",
                        "linecolor": "white",
                        "minorgridcolor": "white",
                        "startlinecolor": "#2a3f5f"
                      },
                      "baxis": {
                        "endlinecolor": "#2a3f5f",
                        "gridcolor": "white",
                        "linecolor": "white",
                        "minorgridcolor": "white",
                        "startlinecolor": "#2a3f5f"
                      },
                      "type": "carpet"
                    }
                  ],
                  "choropleth": [
                    {
                      "colorbar": {
                        "outlinewidth": 0,
                        "ticks": ""
                      },
                      "type": "choropleth"
                    }
                  ],
                  "contourcarpet": [
                    {
                      "colorbar": {
                        "outlinewidth": 0,
                        "ticks": ""
                      },
                      "type": "contourcarpet"
                    }
                  ],
                  "contour": [
                    {
                      "colorbar": {
                        "outlinewidth": 0,
                        "ticks": ""
                      },
                      "colorscale": [
                        [
                          0,
                          "#0d0887"
                        ],
                        [
                          0.1111111111111111,
                          "#46039f"
                        ],
                        [
                          0.2222222222222222,
                          "#7201a8"
                        ],
                        [
                          0.3333333333333333,
                          "#9c179e"
                        ],
                        [
                          0.4444444444444444,
                          "#bd3786"
                        ],
                        [
                          0.5555555555555556,
                          "#d8576b"
                        ],
                        [
                          0.6666666666666666,
                          "#ed7953"
                        ],
                        [
                          0.7777777777777778,
                          "#fb9f3a"
                        ],
                        [
                          0.8888888888888888,
                          "#fdca26"
                        ],
                        [
                          1,
                          "#f0f921"
                        ]
                      ],
                      "type": "contour"
                    }
                  ],
                  "heatmapgl": [
                    {
                      "colorbar": {
                        "outlinewidth": 0,
                        "ticks": ""
                      },
                      "colorscale": [
                        [
                          0,
                          "#0d0887"
                        ],
                        [
                          0.1111111111111111,
                          "#46039f"
                        ],
                        [
                          0.2222222222222222,
                          "#7201a8"
                        ],
                        [
                          0.3333333333333333,
                          "#9c179e"
                        ],
                        [
                          0.4444444444444444,
                          "#bd3786"
                        ],
                        [
                          0.5555555555555556,
                          "#d8576b"
                        ],
                        [
                          0.6666666666666666,
                          "#ed7953"
                        ],
                        [
                          0.7777777777777778,
                          "#fb9f3a"
                        ],
                        [
                          0.8888888888888888,
                          "#fdca26"
                        ],
                        [
                          1,
                          "#f0f921"
                        ]
                      ],
                      "type": "heatmapgl"
                    }
                  ],
                  "heatmap": [
                    {
                      "colorbar": {
                        "outlinewidth": 0,
                        "ticks": ""
                      },
                      "colorscale": [
                        [
                          0,
                          "#0d0887"
                        ],
                        [
                          0.1111111111111111,
                          "#46039f"
                        ],
                        [
                          0.2222222222222222,
                          "#7201a8"
                        ],
                        [
                          0.3333333333333333,
                          "#9c179e"
                        ],
                        [
                          0.4444444444444444,
                          "#bd3786"
                        ],
                        [
                          0.5555555555555556,
                          "#d8576b"
                        ],
                        [
                          0.6666666666666666,
                          "#ed7953"
                        ],
                        [
                          0.7777777777777778,
                          "#fb9f3a"
                        ],
                        [
                          0.8888888888888888,
                          "#fdca26"
                        ],
                        [
                          1,
                          "#f0f921"
                        ]
                      ],
                      "type": "heatmap"
                    }
                  ],
                  "histogram2dcontour": [
                    {
                      "colorbar": {
                        "outlinewidth": 0,
                        "ticks": ""
                      },
                      "colorscale": [
                        [
                          0,
                          "#0d0887"
                        ],
                        [
                          0.1111111111111111,
                          "#46039f"
                        ],
                        [
                          0.2222222222222222,
                          "#7201a8"
                        ],
                        [
                          0.3333333333333333,
                          "#9c179e"
                        ],
                        [
                          0.4444444444444444,
                          "#bd3786"
                        ],
                        [
                          0.5555555555555556,
                          "#d8576b"
                        ],
                        [
                          0.6666666666666666,
                          "#ed7953"
                        ],
                        [
                          0.7777777777777778,
                          "#fb9f3a"
                        ],
                        [
                          0.8888888888888888,
                          "#fdca26"
                        ],
                        [
                          1,
                          "#f0f921"
                        ]
                      ],
                      "type": "histogram2dcontour"
                    }
                  ],
                  "histogram2d": [
                    {
                      "colorbar": {
                        "outlinewidth": 0,
                        "ticks": ""
                      },
                      "colorscale": [
                        [
                          0,
                          "#0d0887"
                        ],
                        [
                          0.1111111111111111,
                          "#46039f"
                        ],
                        [
                          0.2222222222222222,
                          "#7201a8"
                        ],
                        [
                          0.3333333333333333,
                          "#9c179e"
                        ],
                        [
                          0.4444444444444444,
                          "#bd3786"
                        ],
                        [
                          0.5555555555555556,
                          "#d8576b"
                        ],
                        [
                          0.6666666666666666,
                          "#ed7953"
                        ],
                        [
                          0.7777777777777778,
                          "#fb9f3a"
                        ],
                        [
                          0.8888888888888888,
                          "#fdca26"
                        ],
                        [
                          1,
                          "#f0f921"
                        ]
                      ],
                      "type": "histogram2d"
                    }
                  ],
                  "histogram": [
                    {
                      "marker": {
                        "pattern": {
                          "fillmode": "overlay",
                          "size": 10,
                          "solidity": 0.2
                        }
                      },
                      "type": "histogram"
                    }
                  ],
                  "mesh3d": [
                    {
                      "colorbar": {
                        "outlinewidth": 0,
                        "ticks": ""
                      },
                      "type": "mesh3d"
                    }
                  ],
                  "parcoords": [
                    {
                      "line": {
                        "colorbar": {
                          "outlinewidth": 0,
                          "ticks": ""
                        }
                      },
                      "type": "parcoords"
                    }
                  ],
                  "pie": [
                    {
                      "automargin": true,
                      "type": "pie"
                    }
                  ],
                  "scatter3d": [
                    {
                      "line": {
                        "colorbar": {
                          "outlinewidth": 0,
                          "ticks": ""
                        }
                      },
                      "marker": {
                        "colorbar": {
                          "outlinewidth": 0,
                          "ticks": ""
                        }
                      },
                      "type": "scatter3d"
                    }
                  ],
                  "scattercarpet": [
                    {
                      "marker": {
                        "colorbar": {
                          "outlinewidth": 0,
                          "ticks": ""
                        }
                      },
                      "type": "scattercarpet"
                    }
                  ],
                  "scattergeo": [
                    {
                      "marker": {
                        "colorbar": {
                          "outlinewidth": 0,
                          "ticks": ""
                        }
                      },
                      "type": "scattergeo"
                    }
                  ],
                  "scattergl": [
                    {
                      "marker": {
                        "colorbar": {
                          "outlinewidth": 0,
                          "ticks": ""
                        }
                      },
                      "type": "scattergl"
                    }
                  ],
                  "scattermapbox": [
                    {
                      "marker": {
                        "colorbar": {
                          "outlinewidth": 0,
                          "ticks": ""
                        }
                      },
                      "type": "scattermapbox"
                    }
                  ],
                  "scatterpolargl": [
                    {
                      "marker": {
                        "colorbar": {
                          "outlinewidth": 0,
                          "ticks": ""
                        }
                      },
                      "type": "scatterpolargl"
                    }
                  ],
                  "scatterpolar": [
                    {
                      "marker": {
                        "colorbar": {
                          "outlinewidth": 0,
                          "ticks": ""
                        }
                      },
                      "type": "scatterpolar"
                    }
                  ],
                  "scatter": [
                    {
                      "fillpattern": {
                        "fillmode": "overlay",
                        "size": 10,
                        "solidity": 0.2
                      },
                      "type": "scatter"
                    }
                  ],
                  "scatterternary": [
                    {
                      "marker": {
                        "colorbar": {
                          "outlinewidth": 0,
                          "ticks": ""
                        }
                      },
                      "type": "scatterternary"
                    }
                  ],
                  "surface": [
                    {
                      "colorbar": {
                        "outlinewidth": 0,
                        "ticks": ""
                      },
                      "colorscale": [
                        [
                          0,
                          "#0d0887"
                        ],
                        [
                          0.1111111111111111,
                          "#46039f"
                        ],
                        [
                          0.2222222222222222,
                          "#7201a8"
                        ],
                        [
                          0.3333333333333333,
                          "#9c179e"
                        ],
                        [
                          0.4444444444444444,
                          "#bd3786"
                        ],
                        [
                          0.5555555555555556,
                          "#d8576b"
                        ],
                        [
                          0.6666666666666666,
                          "#ed7953"
                        ],
                        [
                          0.7777777777777778,
                          "#fb9f3a"
                        ],
                        [
                          0.8888888888888888,
                          "#fdca26"
                        ],
                        [
                          1,
                          "#f0f921"
                        ]
                      ],
                      "type": "surface"
                    }
                  ],
                  "table": [
                    {
                      "cells": {
                        "fill": {
                          "color": "#EBF0F8"
                        },
                        "line": {
                          "color": "white"
                        }
                      },
                      "header": {
                        "fill": {
                          "color": "#C8D4E3"
                        },
                        "line": {
                          "color": "white"
                        }
                      },
                      "type": "table"
                    }
                  ]
                },
                "layout": {
                  "annotationdefaults": {
                    "arrowcolor": "#2a3f5f",
                    "arrowhead": 0,
                    "arrowwidth": 1
                  },
                  "autotypenumbers": "strict",
                  "coloraxis": {
                    "colorbar": {
                      "outlinewidth": 0,
                      "ticks": ""
                    }
                  },
                  "colorscale": {
                    "diverging": [
                      [
                        0,
                        "#8e0152"
                      ],
                      [
                        0.1,
                        "#c51b7d"
                      ],
                      [
                        0.2,
                        "#de77ae"
                      ],
                      [
                        0.3,
                        "#f1b6da"
                      ],
                      [
                        0.4,
                        "#fde0ef"
                      ],
                      [
                        0.5,
                        "#f7f7f7"
                      ],
                      [
                        0.6,
                        "#e6f5d0"
                      ],
                      [
                        0.7,
                        "#b8e186"
                      ],
                      [
                        0.8,
                        "#7fbc41"
                      ],
                      [
                        0.9,
                        "#4d9221"
                      ],
                      [
                        1,
                        "#276419"
                      ]
                    ],
                    "sequential": [
                      [
                        0,
                        "#0d0887"
                      ],
                      [
                        0.1111111111111111,
                        "#46039f"
                      ],
                      [
                        0.2222222222222222,
                        "#7201a8"
                      ],
                      [
                        0.3333333333333333,
                        "#9c179e"
                      ],
                      [
                        0.4444444444444444,
                        "#bd3786"
                      ],
                      [
                        0.5555555555555556,
                        "#d8576b"
                      ],
                      [
                        0.6666666666666666,
                        "#ed7953"
                      ],
                      [
                        0.7777777777777778,
                        "#fb9f3a"
                      ],
                      [
                        0.8888888888888888,
                        "#fdca26"
                      ],
                      [
                        1,
                        "#f0f921"
                      ]
                    ],
                    "sequentialminus": [
                      [
                        0,
                        "#0d0887"
                      ],
                      [
                        0.1111111111111111,
                        "#46039f"
                      ],
                      [
                        0.2222222222222222,
                        "#7201a8"
                      ],
                      [
                        0.3333333333333333,
                        "#9c179e"
                      ],
                      [
                        0.4444444444444444,
                        "#bd3786"
                      ],
                      [
                        0.5555555555555556,
                        "#d8576b"
                      ],
                      [
                        0.6666666666666666,
                        "#ed7953"
                      ],
                      [
                        0.7777777777777778,
                        "#fb9f3a"
                      ],
                      [
                        0.8888888888888888,
                        "#fdca26"
                      ],
                      [
                        1,
                        "#f0f921"
                      ]
                    ]
                  },
                  "colorway": [
                    "#636efa",
                    "#EF553B",
                    "#00cc96",
                    "#ab63fa",
                    "#FFA15A",
                    "#19d3f3",
                    "#FF6692",
                    "#B6E880",
                    "#FF97FF",
                    "#FECB52"
                  ],
                  "font": {
                    "color": "#2a3f5f"
                  },
                  "geo": {
                    "bgcolor": "white",
                    "lakecolor": "white",
                    "landcolor": "#E5ECF6",
                    "showlakes": true,
                    "showland": true,
                    "subunitcolor": "white"
                  },
                  "hoverlabel": {
                    "align": "left"
                  },
                  "hovermode": "closest",
                  "mapbox": {
                    "style": "light"
                  },
                  "paper_bgcolor": "white",
                  "plot_bgcolor": "#E5ECF6",
                  "polar": {
                    "angularaxis": {
                      "gridcolor": "white",
                      "linecolor": "white",
                      "ticks": ""
                    },
                    "bgcolor": "#E5ECF6",
                    "radialaxis": {
                      "gridcolor": "white",
                      "linecolor": "white",
                      "ticks": ""
                    }
                  },
                  "scene": {
                    "xaxis": {
                      "backgroundcolor": "#E5ECF6",
                      "gridcolor": "white",
                      "gridwidth": 2,
                      "linecolor": "white",
                      "showbackground": true,
                      "ticks": "",
                      "zerolinecolor": "white"
                    },
                    "yaxis": {
                      "backgroundcolor": "#E5ECF6",
                      "gridcolor": "white",
                      "gridwidth": 2,
                      "linecolor": "white",
                      "showbackground": true,
                      "ticks": "",
                      "zerolinecolor": "white"
                    },
                    "zaxis": {
                      "backgroundcolor": "#E5ECF6",
                      "gridcolor": "white",
                      "gridwidth": 2,
                      "linecolor": "white",
                      "showbackground": true,
                      "ticks": "",
                      "zerolinecolor": "white"
                    }
                  },
                  "shapedefaults": {
                    "line": {
                      "color": "#2a3f5f"
                    }
                  },
                  "ternary": {
                    "aaxis": {
                      "gridcolor": "white",
                      "linecolor": "white",
                      "ticks": ""
                    },
                    "baxis": {
                      "gridcolor": "white",
                      "linecolor": "white",
                      "ticks": ""
                    },
                    "bgcolor": "#E5ECF6",
                    "caxis": {
                      "gridcolor": "white",
                      "linecolor": "white",
                      "ticks": ""
                    }
                  },
                  "title": {
                    "x": 0.05
                  },
                  "xaxis": {
                    "automargin": true,
                    "gridcolor": "white",
                    "linecolor": "white",
                    "ticks": "",
                    "title": {
                      "standoff": 15
                    },
                    "zerolinecolor": "white",
                    "zerolinewidth": 2
                  },
                  "yaxis": {
                    "automargin": true,
                    "gridcolor": "white",
                    "linecolor": "white",
                    "ticks": "",
                    "title": {
                      "standoff": 15
                    },
                    "zerolinecolor": "white",
                    "zerolinewidth": 2
                  }
                }
              },
              "title": {
                "text": "Comparison between epochs of gradient distributions in layers",
                "x": 0.5
              },
              "width": 1500,
              "xaxis": {
                "anchor": "y",
                "domain": [
                  0,
                  0.2888888888888889
                ],
                "range": [
                  -0.1,
                  0.1
                ],
                "title": {
                  "text": "Gradient value"
                }
              },
              "yaxis": {
                "anchor": "x",
                "domain": [
                  0.55,
                  1
                ],
                "title": {
                  "text": "Density (log scale)"
                },
                "type": "log"
              },
              "xaxis2": {
                "anchor": "y2",
                "domain": [
                  0.35555555555555557,
                  0.6444444444444445
                ],
                "range": [
                  -0.1,
                  0.1
                ],
                "title": {
                  "text": "Gradient value"
                }
              },
              "yaxis2": {
                "anchor": "x2",
                "domain": [
                  0.55,
                  1
                ],
                "title": {
                  "text": "Density (log scale)"
                },
                "type": "log"
              },
              "xaxis3": {
                "anchor": "y3",
                "domain": [
                  0.7111111111111111,
                  1
                ],
                "range": [
                  -0.1,
                  0.1
                ],
                "title": {
                  "text": "Gradient value"
                }
              },
              "yaxis3": {
                "anchor": "x3",
                "domain": [
                  0.55,
                  1
                ],
                "title": {
                  "text": "Density (log scale)"
                },
                "type": "log"
              },
              "xaxis4": {
                "anchor": "y4",
                "domain": [
                  0,
                  0.2888888888888889
                ],
                "range": [
                  -0.1,
                  0.1
                ],
                "title": {
                  "text": "Gradient value"
                }
              },
              "yaxis4": {
                "anchor": "x4",
                "domain": [
                  0,
                  0.45
                ],
                "title": {
                  "text": "Density (log scale)"
                },
                "type": "log"
              },
              "xaxis5": {
                "anchor": "y5",
                "domain": [
                  0.35555555555555557,
                  0.6444444444444445
                ],
                "range": [
                  -0.1,
                  0.1
                ],
                "title": {
                  "text": "Gradient value"
                }
              },
              "yaxis5": {
                "anchor": "x5",
                "domain": [
                  0,
                  0.45
                ],
                "title": {
                  "text": "Density (log scale)"
                },
                "type": "log"
              },
              "xaxis6": {
                "anchor": "y6",
                "domain": [
                  0.7111111111111111,
                  1
                ],
                "range": [
                  -0.1,
                  0.1
                ],
                "title": {
                  "text": "Gradient value"
                }
              },
              "yaxis6": {
                "anchor": "x6",
                "domain": [
                  0,
                  0.45
                ],
                "title": {
                  "text": "Density (log scale)"
                },
                "type": "log"
              }
            },
            "_model_module": "jupyterlab-plotly",
            "_model_module_version": "^5.24.1",
            "_model_name": "FigureModel",
            "_py2js_addTraces": {},
            "_py2js_animate": {},
            "_py2js_deleteTraces": {},
            "_py2js_moveTraces": {},
            "_py2js_relayout": {},
            "_py2js_removeLayoutProps": {},
            "_py2js_removeTraceProps": {},
            "_py2js_restyle": null,
            "_py2js_update": {},
            "_view_count": 1,
            "_view_module": "jupyterlab-plotly",
            "_view_module_version": "^5.24.1",
            "_view_name": "FigureView"
          }
        },
        "ca0096db602d4dff97ecfb6616e317db": {
          "model_module": "jupyterlab-plotly",
          "model_name": "FigureModel",
          "model_module_version": "^5.24.1",
          "state": {
            "_config": {
              "plotlyServerURL": "https://plot.ly"
            },
            "_data": [
              {
                "line": {
                  "color": "rgb(99, 110, 250)"
                },
                "mode": "lines",
                "name": "Linear layer 0",
                "showlegend": true,
                "xaxis": "x",
                "yaxis": "y",
                "type": "scatter",
                "uid": "37511482-379e-4623-9c27-490b1686b8f6"
              },
              {
                "line": {
                  "color": "rgb(239, 85, 59)"
                },
                "mode": "lines",
                "name": "Linear layer 1",
                "showlegend": true,
                "xaxis": "x",
                "yaxis": "y",
                "type": "scatter",
                "uid": "a46b63f9-fedc-4ac3-bd5f-9086c7bdcd74"
              },
              {
                "line": {
                  "color": "rgb(0, 204, 150)"
                },
                "mode": "lines",
                "name": "Linear layer 2",
                "showlegend": true,
                "xaxis": "x",
                "yaxis": "y",
                "type": "scatter",
                "uid": "f996caed-66d2-4178-b996-2999af535ad7"
              },
              {
                "line": {
                  "color": "rgb(171, 99, 250)"
                },
                "mode": "lines",
                "name": "Linear layer 3",
                "showlegend": true,
                "xaxis": "x",
                "yaxis": "y",
                "type": "scatter",
                "uid": "a538350e-d165-4997-9cf9-bf6014d712e4"
              },
              {
                "line": {
                  "color": "rgb(255, 161, 90)"
                },
                "mode": "lines",
                "name": "Linear layer 4",
                "showlegend": true,
                "xaxis": "x",
                "yaxis": "y",
                "type": "scatter",
                "uid": "8d3bc796-eac6-4500-be01-bad96a69550c"
              },
              {
                "line": {
                  "color": "rgb(25, 211, 243)"
                },
                "mode": "lines",
                "name": "Linear layer 5",
                "showlegend": true,
                "xaxis": "x",
                "yaxis": "y",
                "type": "scatter",
                "uid": "84d05404-b517-4430-9e23-01957583732f"
              },
              {
                "line": {
                  "color": "rgb(99, 110, 250)"
                },
                "mode": "lines",
                "name": "Linear layer 0",
                "showlegend": false,
                "xaxis": "x2",
                "yaxis": "y2",
                "type": "scatter",
                "uid": "2ab2e56c-dd80-4d94-a183-79c6df3d6786"
              },
              {
                "line": {
                  "color": "rgb(239, 85, 59)"
                },
                "mode": "lines",
                "name": "Linear layer 1",
                "showlegend": false,
                "xaxis": "x2",
                "yaxis": "y2",
                "type": "scatter",
                "uid": "8e4da738-3b27-4d34-bc82-9d5f18656aba"
              },
              {
                "line": {
                  "color": "rgb(0, 204, 150)"
                },
                "mode": "lines",
                "name": "Linear layer 2",
                "showlegend": false,
                "xaxis": "x2",
                "yaxis": "y2",
                "type": "scatter",
                "uid": "a80534cf-7e1b-4ee6-b5d8-8b92042c9604"
              },
              {
                "line": {
                  "color": "rgb(171, 99, 250)"
                },
                "mode": "lines",
                "name": "Linear layer 3",
                "showlegend": false,
                "xaxis": "x2",
                "yaxis": "y2",
                "type": "scatter",
                "uid": "8792d5a6-5d2f-49c9-bd00-37bc717f75da"
              },
              {
                "line": {
                  "color": "rgb(255, 161, 90)"
                },
                "mode": "lines",
                "name": "Linear layer 4",
                "showlegend": false,
                "xaxis": "x2",
                "yaxis": "y2",
                "type": "scatter",
                "uid": "154af063-eebf-4b99-a73c-93d2c193d984"
              },
              {
                "line": {
                  "color": "rgb(25, 211, 243)"
                },
                "mode": "lines",
                "name": "Linear layer 5",
                "showlegend": false,
                "xaxis": "x2",
                "yaxis": "y2",
                "type": "scatter",
                "uid": "3224965c-1c51-4352-adbd-77ca0d2116df"
              },
              {
                "line": {
                  "color": "rgb(99, 110, 250)"
                },
                "mode": "lines",
                "name": "Linear layer 0",
                "showlegend": false,
                "xaxis": "x3",
                "yaxis": "y3",
                "type": "scatter",
                "uid": "965cf457-3758-4040-a158-f4b9f27d6c16"
              },
              {
                "line": {
                  "color": "rgb(239, 85, 59)"
                },
                "mode": "lines",
                "name": "Linear layer 1",
                "showlegend": false,
                "xaxis": "x3",
                "yaxis": "y3",
                "type": "scatter",
                "uid": "91cedf7d-03db-4b19-ad64-dc1f5d48899f"
              },
              {
                "line": {
                  "color": "rgb(0, 204, 150)"
                },
                "mode": "lines",
                "name": "Linear layer 2",
                "showlegend": false,
                "xaxis": "x3",
                "yaxis": "y3",
                "type": "scatter",
                "uid": "31f945d1-44db-463a-a99b-f8fac2bda123"
              },
              {
                "line": {
                  "color": "rgb(171, 99, 250)"
                },
                "mode": "lines",
                "name": "Linear layer 3",
                "showlegend": false,
                "xaxis": "x3",
                "yaxis": "y3",
                "type": "scatter",
                "uid": "bc8c20b5-e89b-424b-be9c-89d74e4b853a"
              },
              {
                "line": {
                  "color": "rgb(255, 161, 90)"
                },
                "mode": "lines",
                "name": "Linear layer 4",
                "showlegend": false,
                "xaxis": "x3",
                "yaxis": "y3",
                "type": "scatter",
                "uid": "7d28671b-e995-454c-8480-cb1878d386d4"
              },
              {
                "line": {
                  "color": "rgb(25, 211, 243)"
                },
                "mode": "lines",
                "name": "Linear layer 5",
                "showlegend": false,
                "xaxis": "x3",
                "yaxis": "y3",
                "type": "scatter",
                "uid": "2a5ef9e4-279e-4a79-a798-47ef688617b3"
              }
            ],
            "_dom_classes": [],
            "_js2py_layoutDelta": {},
            "_js2py_pointsCallback": {},
            "_js2py_relayout": {},
            "_js2py_restyle": {},
            "_js2py_traceDeltas": {},
            "_js2py_update": {},
            "_last_layout_edit_id": 24,
            "_last_trace_edit_id": 24,
            "_layout": {
              "annotations": [
                {
                  "font": {
                    "size": 16
                  },
                  "showarrow": false,
                  "text": "Epoch 1",
                  "x": 0.14444444444444446,
                  "xanchor": "center",
                  "xref": "paper",
                  "y": 1,
                  "yanchor": "bottom",
                  "yref": "paper"
                },
                {
                  "font": {
                    "size": 16
                  },
                  "showarrow": false,
                  "text": "Epoch 11",
                  "x": 0.5,
                  "xanchor": "center",
                  "xref": "paper",
                  "y": 1,
                  "yanchor": "bottom",
                  "yref": "paper"
                },
                {
                  "font": {
                    "size": 16
                  },
                  "showarrow": false,
                  "text": "Epoch 20",
                  "x": 0.8555555555555556,
                  "xanchor": "center",
                  "xref": "paper",
                  "y": 1,
                  "yanchor": "bottom",
                  "yref": "paper"
                }
              ],
              "height": 400,
              "margin": {
                "b": 10,
                "t": 60
              },
              "template": {
                "data": {
                  "barpolar": [
                    {
                      "marker": {
                        "line": {
                          "color": "#E5ECF6",
                          "width": 0.5
                        },
                        "pattern": {
                          "fillmode": "overlay",
                          "size": 10,
                          "solidity": 0.2
                        }
                      },
                      "type": "barpolar"
                    }
                  ],
                  "bar": [
                    {
                      "error_x": {
                        "color": "#2a3f5f"
                      },
                      "error_y": {
                        "color": "#2a3f5f"
                      },
                      "marker": {
                        "line": {
                          "color": "#E5ECF6",
                          "width": 0.5
                        },
                        "pattern": {
                          "fillmode": "overlay",
                          "size": 10,
                          "solidity": 0.2
                        }
                      },
                      "type": "bar"
                    }
                  ],
                  "carpet": [
                    {
                      "aaxis": {
                        "endlinecolor": "#2a3f5f",
                        "gridcolor": "white",
                        "linecolor": "white",
                        "minorgridcolor": "white",
                        "startlinecolor": "#2a3f5f"
                      },
                      "baxis": {
                        "endlinecolor": "#2a3f5f",
                        "gridcolor": "white",
                        "linecolor": "white",
                        "minorgridcolor": "white",
                        "startlinecolor": "#2a3f5f"
                      },
                      "type": "carpet"
                    }
                  ],
                  "choropleth": [
                    {
                      "colorbar": {
                        "outlinewidth": 0,
                        "ticks": ""
                      },
                      "type": "choropleth"
                    }
                  ],
                  "contourcarpet": [
                    {
                      "colorbar": {
                        "outlinewidth": 0,
                        "ticks": ""
                      },
                      "type": "contourcarpet"
                    }
                  ],
                  "contour": [
                    {
                      "colorbar": {
                        "outlinewidth": 0,
                        "ticks": ""
                      },
                      "colorscale": [
                        [
                          0,
                          "#0d0887"
                        ],
                        [
                          0.1111111111111111,
                          "#46039f"
                        ],
                        [
                          0.2222222222222222,
                          "#7201a8"
                        ],
                        [
                          0.3333333333333333,
                          "#9c179e"
                        ],
                        [
                          0.4444444444444444,
                          "#bd3786"
                        ],
                        [
                          0.5555555555555556,
                          "#d8576b"
                        ],
                        [
                          0.6666666666666666,
                          "#ed7953"
                        ],
                        [
                          0.7777777777777778,
                          "#fb9f3a"
                        ],
                        [
                          0.8888888888888888,
                          "#fdca26"
                        ],
                        [
                          1,
                          "#f0f921"
                        ]
                      ],
                      "type": "contour"
                    }
                  ],
                  "heatmapgl": [
                    {
                      "colorbar": {
                        "outlinewidth": 0,
                        "ticks": ""
                      },
                      "colorscale": [
                        [
                          0,
                          "#0d0887"
                        ],
                        [
                          0.1111111111111111,
                          "#46039f"
                        ],
                        [
                          0.2222222222222222,
                          "#7201a8"
                        ],
                        [
                          0.3333333333333333,
                          "#9c179e"
                        ],
                        [
                          0.4444444444444444,
                          "#bd3786"
                        ],
                        [
                          0.5555555555555556,
                          "#d8576b"
                        ],
                        [
                          0.6666666666666666,
                          "#ed7953"
                        ],
                        [
                          0.7777777777777778,
                          "#fb9f3a"
                        ],
                        [
                          0.8888888888888888,
                          "#fdca26"
                        ],
                        [
                          1,
                          "#f0f921"
                        ]
                      ],
                      "type": "heatmapgl"
                    }
                  ],
                  "heatmap": [
                    {
                      "colorbar": {
                        "outlinewidth": 0,
                        "ticks": ""
                      },
                      "colorscale": [
                        [
                          0,
                          "#0d0887"
                        ],
                        [
                          0.1111111111111111,
                          "#46039f"
                        ],
                        [
                          0.2222222222222222,
                          "#7201a8"
                        ],
                        [
                          0.3333333333333333,
                          "#9c179e"
                        ],
                        [
                          0.4444444444444444,
                          "#bd3786"
                        ],
                        [
                          0.5555555555555556,
                          "#d8576b"
                        ],
                        [
                          0.6666666666666666,
                          "#ed7953"
                        ],
                        [
                          0.7777777777777778,
                          "#fb9f3a"
                        ],
                        [
                          0.8888888888888888,
                          "#fdca26"
                        ],
                        [
                          1,
                          "#f0f921"
                        ]
                      ],
                      "type": "heatmap"
                    }
                  ],
                  "histogram2dcontour": [
                    {
                      "colorbar": {
                        "outlinewidth": 0,
                        "ticks": ""
                      },
                      "colorscale": [
                        [
                          0,
                          "#0d0887"
                        ],
                        [
                          0.1111111111111111,
                          "#46039f"
                        ],
                        [
                          0.2222222222222222,
                          "#7201a8"
                        ],
                        [
                          0.3333333333333333,
                          "#9c179e"
                        ],
                        [
                          0.4444444444444444,
                          "#bd3786"
                        ],
                        [
                          0.5555555555555556,
                          "#d8576b"
                        ],
                        [
                          0.6666666666666666,
                          "#ed7953"
                        ],
                        [
                          0.7777777777777778,
                          "#fb9f3a"
                        ],
                        [
                          0.8888888888888888,
                          "#fdca26"
                        ],
                        [
                          1,
                          "#f0f921"
                        ]
                      ],
                      "type": "histogram2dcontour"
                    }
                  ],
                  "histogram2d": [
                    {
                      "colorbar": {
                        "outlinewidth": 0,
                        "ticks": ""
                      },
                      "colorscale": [
                        [
                          0,
                          "#0d0887"
                        ],
                        [
                          0.1111111111111111,
                          "#46039f"
                        ],
                        [
                          0.2222222222222222,
                          "#7201a8"
                        ],
                        [
                          0.3333333333333333,
                          "#9c179e"
                        ],
                        [
                          0.4444444444444444,
                          "#bd3786"
                        ],
                        [
                          0.5555555555555556,
                          "#d8576b"
                        ],
                        [
                          0.6666666666666666,
                          "#ed7953"
                        ],
                        [
                          0.7777777777777778,
                          "#fb9f3a"
                        ],
                        [
                          0.8888888888888888,
                          "#fdca26"
                        ],
                        [
                          1,
                          "#f0f921"
                        ]
                      ],
                      "type": "histogram2d"
                    }
                  ],
                  "histogram": [
                    {
                      "marker": {
                        "pattern": {
                          "fillmode": "overlay",
                          "size": 10,
                          "solidity": 0.2
                        }
                      },
                      "type": "histogram"
                    }
                  ],
                  "mesh3d": [
                    {
                      "colorbar": {
                        "outlinewidth": 0,
                        "ticks": ""
                      },
                      "type": "mesh3d"
                    }
                  ],
                  "parcoords": [
                    {
                      "line": {
                        "colorbar": {
                          "outlinewidth": 0,
                          "ticks": ""
                        }
                      },
                      "type": "parcoords"
                    }
                  ],
                  "pie": [
                    {
                      "automargin": true,
                      "type": "pie"
                    }
                  ],
                  "scatter3d": [
                    {
                      "line": {
                        "colorbar": {
                          "outlinewidth": 0,
                          "ticks": ""
                        }
                      },
                      "marker": {
                        "colorbar": {
                          "outlinewidth": 0,
                          "ticks": ""
                        }
                      },
                      "type": "scatter3d"
                    }
                  ],
                  "scattercarpet": [
                    {
                      "marker": {
                        "colorbar": {
                          "outlinewidth": 0,
                          "ticks": ""
                        }
                      },
                      "type": "scattercarpet"
                    }
                  ],
                  "scattergeo": [
                    {
                      "marker": {
                        "colorbar": {
                          "outlinewidth": 0,
                          "ticks": ""
                        }
                      },
                      "type": "scattergeo"
                    }
                  ],
                  "scattergl": [
                    {
                      "marker": {
                        "colorbar": {
                          "outlinewidth": 0,
                          "ticks": ""
                        }
                      },
                      "type": "scattergl"
                    }
                  ],
                  "scattermapbox": [
                    {
                      "marker": {
                        "colorbar": {
                          "outlinewidth": 0,
                          "ticks": ""
                        }
                      },
                      "type": "scattermapbox"
                    }
                  ],
                  "scatterpolargl": [
                    {
                      "marker": {
                        "colorbar": {
                          "outlinewidth": 0,
                          "ticks": ""
                        }
                      },
                      "type": "scatterpolargl"
                    }
                  ],
                  "scatterpolar": [
                    {
                      "marker": {
                        "colorbar": {
                          "outlinewidth": 0,
                          "ticks": ""
                        }
                      },
                      "type": "scatterpolar"
                    }
                  ],
                  "scatter": [
                    {
                      "fillpattern": {
                        "fillmode": "overlay",
                        "size": 10,
                        "solidity": 0.2
                      },
                      "type": "scatter"
                    }
                  ],
                  "scatterternary": [
                    {
                      "marker": {
                        "colorbar": {
                          "outlinewidth": 0,
                          "ticks": ""
                        }
                      },
                      "type": "scatterternary"
                    }
                  ],
                  "surface": [
                    {
                      "colorbar": {
                        "outlinewidth": 0,
                        "ticks": ""
                      },
                      "colorscale": [
                        [
                          0,
                          "#0d0887"
                        ],
                        [
                          0.1111111111111111,
                          "#46039f"
                        ],
                        [
                          0.2222222222222222,
                          "#7201a8"
                        ],
                        [
                          0.3333333333333333,
                          "#9c179e"
                        ],
                        [
                          0.4444444444444444,
                          "#bd3786"
                        ],
                        [
                          0.5555555555555556,
                          "#d8576b"
                        ],
                        [
                          0.6666666666666666,
                          "#ed7953"
                        ],
                        [
                          0.7777777777777778,
                          "#fb9f3a"
                        ],
                        [
                          0.8888888888888888,
                          "#fdca26"
                        ],
                        [
                          1,
                          "#f0f921"
                        ]
                      ],
                      "type": "surface"
                    }
                  ],
                  "table": [
                    {
                      "cells": {
                        "fill": {
                          "color": "#EBF0F8"
                        },
                        "line": {
                          "color": "white"
                        }
                      },
                      "header": {
                        "fill": {
                          "color": "#C8D4E3"
                        },
                        "line": {
                          "color": "white"
                        }
                      },
                      "type": "table"
                    }
                  ]
                },
                "layout": {
                  "annotationdefaults": {
                    "arrowcolor": "#2a3f5f",
                    "arrowhead": 0,
                    "arrowwidth": 1
                  },
                  "autotypenumbers": "strict",
                  "coloraxis": {
                    "colorbar": {
                      "outlinewidth": 0,
                      "ticks": ""
                    }
                  },
                  "colorscale": {
                    "diverging": [
                      [
                        0,
                        "#8e0152"
                      ],
                      [
                        0.1,
                        "#c51b7d"
                      ],
                      [
                        0.2,
                        "#de77ae"
                      ],
                      [
                        0.3,
                        "#f1b6da"
                      ],
                      [
                        0.4,
                        "#fde0ef"
                      ],
                      [
                        0.5,
                        "#f7f7f7"
                      ],
                      [
                        0.6,
                        "#e6f5d0"
                      ],
                      [
                        0.7,
                        "#b8e186"
                      ],
                      [
                        0.8,
                        "#7fbc41"
                      ],
                      [
                        0.9,
                        "#4d9221"
                      ],
                      [
                        1,
                        "#276419"
                      ]
                    ],
                    "sequential": [
                      [
                        0,
                        "#0d0887"
                      ],
                      [
                        0.1111111111111111,
                        "#46039f"
                      ],
                      [
                        0.2222222222222222,
                        "#7201a8"
                      ],
                      [
                        0.3333333333333333,
                        "#9c179e"
                      ],
                      [
                        0.4444444444444444,
                        "#bd3786"
                      ],
                      [
                        0.5555555555555556,
                        "#d8576b"
                      ],
                      [
                        0.6666666666666666,
                        "#ed7953"
                      ],
                      [
                        0.7777777777777778,
                        "#fb9f3a"
                      ],
                      [
                        0.8888888888888888,
                        "#fdca26"
                      ],
                      [
                        1,
                        "#f0f921"
                      ]
                    ],
                    "sequentialminus": [
                      [
                        0,
                        "#0d0887"
                      ],
                      [
                        0.1111111111111111,
                        "#46039f"
                      ],
                      [
                        0.2222222222222222,
                        "#7201a8"
                      ],
                      [
                        0.3333333333333333,
                        "#9c179e"
                      ],
                      [
                        0.4444444444444444,
                        "#bd3786"
                      ],
                      [
                        0.5555555555555556,
                        "#d8576b"
                      ],
                      [
                        0.6666666666666666,
                        "#ed7953"
                      ],
                      [
                        0.7777777777777778,
                        "#fb9f3a"
                      ],
                      [
                        0.8888888888888888,
                        "#fdca26"
                      ],
                      [
                        1,
                        "#f0f921"
                      ]
                    ]
                  },
                  "colorway": [
                    "#636efa",
                    "#EF553B",
                    "#00cc96",
                    "#ab63fa",
                    "#FFA15A",
                    "#19d3f3",
                    "#FF6692",
                    "#B6E880",
                    "#FF97FF",
                    "#FECB52"
                  ],
                  "font": {
                    "color": "#2a3f5f"
                  },
                  "geo": {
                    "bgcolor": "white",
                    "lakecolor": "white",
                    "landcolor": "#E5ECF6",
                    "showlakes": true,
                    "showland": true,
                    "subunitcolor": "white"
                  },
                  "hoverlabel": {
                    "align": "left"
                  },
                  "hovermode": "closest",
                  "mapbox": {
                    "style": "light"
                  },
                  "paper_bgcolor": "white",
                  "plot_bgcolor": "#E5ECF6",
                  "polar": {
                    "angularaxis": {
                      "gridcolor": "white",
                      "linecolor": "white",
                      "ticks": ""
                    },
                    "bgcolor": "#E5ECF6",
                    "radialaxis": {
                      "gridcolor": "white",
                      "linecolor": "white",
                      "ticks": ""
                    }
                  },
                  "scene": {
                    "xaxis": {
                      "backgroundcolor": "#E5ECF6",
                      "gridcolor": "white",
                      "gridwidth": 2,
                      "linecolor": "white",
                      "showbackground": true,
                      "ticks": "",
                      "zerolinecolor": "white"
                    },
                    "yaxis": {
                      "backgroundcolor": "#E5ECF6",
                      "gridcolor": "white",
                      "gridwidth": 2,
                      "linecolor": "white",
                      "showbackground": true,
                      "ticks": "",
                      "zerolinecolor": "white"
                    },
                    "zaxis": {
                      "backgroundcolor": "#E5ECF6",
                      "gridcolor": "white",
                      "gridwidth": 2,
                      "linecolor": "white",
                      "showbackground": true,
                      "ticks": "",
                      "zerolinecolor": "white"
                    }
                  },
                  "shapedefaults": {
                    "line": {
                      "color": "#2a3f5f"
                    }
                  },
                  "ternary": {
                    "aaxis": {
                      "gridcolor": "white",
                      "linecolor": "white",
                      "ticks": ""
                    },
                    "baxis": {
                      "gridcolor": "white",
                      "linecolor": "white",
                      "ticks": ""
                    },
                    "bgcolor": "#E5ECF6",
                    "caxis": {
                      "gridcolor": "white",
                      "linecolor": "white",
                      "ticks": ""
                    }
                  },
                  "title": {
                    "x": 0.05
                  },
                  "xaxis": {
                    "automargin": true,
                    "gridcolor": "white",
                    "linecolor": "white",
                    "ticks": "",
                    "title": {
                      "standoff": 15
                    },
                    "zerolinecolor": "white",
                    "zerolinewidth": 2
                  },
                  "yaxis": {
                    "automargin": true,
                    "gridcolor": "white",
                    "linecolor": "white",
                    "ticks": "",
                    "title": {
                      "standoff": 15
                    },
                    "zerolinecolor": "white",
                    "zerolinewidth": 2
                  }
                }
              },
              "title": {
                "text": "Comparison between layers of gradient distributions at epochs",
                "x": 0.5
              },
              "width": 1500,
              "xaxis": {
                "anchor": "y",
                "domain": [
                  0,
                  0.2888888888888889
                ],
                "range": [
                  -1,
                  1
                ],
                "title": {
                  "text": "Gradient value"
                }
              },
              "yaxis": {
                "anchor": "x",
                "domain": [
                  0,
                  1
                ],
                "title": {
                  "text": "Density (log scale)"
                },
                "type": "log"
              },
              "xaxis2": {
                "anchor": "y2",
                "domain": [
                  0.35555555555555557,
                  0.6444444444444445
                ],
                "range": [
                  -0.05,
                  0.05
                ],
                "title": {
                  "text": "Gradient value"
                }
              },
              "yaxis2": {
                "anchor": "x2",
                "domain": [
                  0,
                  1
                ],
                "title": {
                  "text": "Density (log scale)"
                },
                "type": "log"
              },
              "xaxis3": {
                "anchor": "y3",
                "domain": [
                  0.7111111111111111,
                  1
                ],
                "range": [
                  -0.05,
                  0.05
                ],
                "title": {
                  "text": "Gradient value"
                }
              },
              "yaxis3": {
                "anchor": "x3",
                "domain": [
                  0,
                  1
                ],
                "title": {
                  "text": "Density (log scale)"
                },
                "type": "log"
              }
            },
            "_model_module": "jupyterlab-plotly",
            "_model_module_version": "^5.24.1",
            "_model_name": "FigureModel",
            "_py2js_addTraces": {},
            "_py2js_animate": {},
            "_py2js_deleteTraces": {},
            "_py2js_moveTraces": {},
            "_py2js_relayout": {},
            "_py2js_removeLayoutProps": {},
            "_py2js_removeTraceProps": {},
            "_py2js_restyle": null,
            "_py2js_update": {},
            "_view_count": 1,
            "_view_module": "jupyterlab-plotly",
            "_view_module_version": "^5.24.1",
            "_view_name": "FigureView"
          }
        }
      }
    }
  },
  "cells": [
    {
      "cell_type": "markdown",
      "source": [
        "<center><img src='https://drive.google.com/uc?id=1_utx_ZGclmCwNttSe40kYA6VHzNocdET' height=\"60\"></center>\n",
        "\n",
        "AI TECH - Akademia Innowacyjnych Zastosowań Technologii Cyfrowych. Program Operacyjny Polska Cyfrowa na lata 2014-2020\n",
        "<hr>\n",
        "\n",
        "<center><img src='https://drive.google.com/uc?id=1BXZ0u3562N_MqCLcekI-Ens77Kk4LpPm'></center>\n",
        "\n",
        "<center>\n",
        "Projekt współfinansowany ze środków Unii Europejskiej w ramach Europejskiego Funduszu Rozwoju Regionalnego\n",
        "Program Operacyjny Polska Cyfrowa na lata 2014-2020,\n",
        "Oś Priorytetowa nr 3 \"Cyfrowe kompetencje społeczeństwa\" Działanie  nr 3.2 \"Innowacyjne rozwiązania na rzecz aktywizacji cyfrowej\"\n",
        "Tytuł projektu:  „Akademia Innowacyjnych Zastosowań Technologii Cyfrowych (AI Tech)”\n",
        "    </center>"
      ],
      "metadata": {
        "id": "BfdcY0Vq6e80"
      }
    },
    {
      "cell_type": "markdown",
      "metadata": {
        "id": "gcTwzhX8fBqs"
      },
      "source": [
        "Code based on https://github.com/pytorch/examples/blob/master/mnist/main.py\n",
        "\n",
        "This exercise covers two aspects:\n",
        "* In tasks 1-6 you will implement mechanisms that allow training deeper models (better initialization, batch normalization). Note that for dropout and batch norm you are expected to implement it yourself without relying on ready-made components from Pytorch. After doing each of the tasks you can look at the plots and check how your changes impact gradients of network layers.\n",
        "* In task 7 you will implement a convnet using [conv2d](https://pytorch.org/docs/stable/generated/torch.nn.Conv2d.html).\n",
        "\n",
        "\n",
        "Tasks:\n",
        "1. Check that the given implementation reaches 95% test accuracy for\n",
        "   architecture input-64-64-10 in a few thousand batches.\n",
        "2. Improve initialization and check that the network learns much faster\n",
        "   and reaches over 97% test accuracy. A good basic initialization scheme is so-called Glorot initialization. For a set of weights going from a layer with $n_{in}$ neurons to a layer with $n_{out}$ neurons, it samples each weight from normal distribution with $0$ mean and standard deviation of $\\sqrt{\\frac{2}{n_{in}+n_{out}}}$.  \n",
        "Check how better initialization changes distribution of gradients at the first epoch.\n",
        "3. Check, that with proper initialization we can train architecture\n",
        "   input-64-64-64-64-64-10, while with bad initialization it does\n",
        "   not even get off the ground.\n",
        "4. Add dropout implemented in pytorch (but without using torch.nn.Dropout)\n",
        "5. Check that with 10 hidden layers (64 units each) even with proper\n",
        "    initialization the network has a hard time to start learning.\n",
        "6. Implement batch normalization (use train mode also for testing - it should perform well enough):\n",
        "    * compute batch mean and variance\n",
        "    * add new variables beta and gamma\n",
        "    * check that the networks learns much faster for 5 layers\n",
        "    * check that the network learns even for 10 hidden layers.\n",
        "    * check how gradients change in comparison to network without batch norm.\n",
        "7. So far we worked with a fully connected network. Design and implement in pytorch (by using pytorch functions) a simple convolutional network and achieve 99% test accuracy. The architecture is up to you, but even a few convolutional layers should be enough."
      ]
    },
    {
      "cell_type": "code",
      "metadata": {
        "id": "IYAsziKffBFV"
      },
      "source": [
        "import sys\n",
        "import math\n",
        "import torch\n",
        "import torch.nn as nn\n",
        "import torch.nn.functional as F\n",
        "import torch.optim as optim\n",
        "from torch.nn.parameter import Parameter\n",
        "from torch.nn import init\n",
        "import torchvision\n",
        "import torchvision.transforms as transforms\n",
        "import plotly.express as px\n",
        "import plotly.graph_objects as go\n",
        "from plotly.subplots import make_subplots\n",
        "import numpy as np\n",
        "\n",
        "if 'google.colab' in sys.modules:\n",
        "    from google.colab import output\n",
        "    output.enable_custom_widget_manager()"
      ],
      "execution_count": 59,
      "outputs": []
    },
    {
      "cell_type": "code",
      "metadata": {
        "collapsed": true,
        "id": "D2cTAah4oMkJ",
        "cellView": "form"
      },
      "execution_count": 34,
      "outputs": [],
      "source": [
        "# @title Visualize gradients\n",
        "\n",
        "class GradientVisualizer:\n",
        "    def __init__(self, net, num_epochs):\n",
        "        self.num_epochs = num_epochs\n",
        "        self.linear_layers = self.get_linear_layers(net)\n",
        "\n",
        "        self.grad_to_weight_fig = None\n",
        "        self.grads_in_layers_fig = None\n",
        "        self.grads_at_epochs_fig = None\n",
        "        self.init_figures()\n",
        "\n",
        "    def get_linear_layers(self, net):\n",
        "        linear_layers = []\n",
        "        for field in net.__dict__['_modules'].values():\n",
        "            if isinstance(field, Linear):\n",
        "                linear_layers.append(field)\n",
        "            if isinstance(field, nn.ModuleList):\n",
        "                for module in field:\n",
        "                    if isinstance(module, Linear):\n",
        "                        linear_layers.append(module)\n",
        "\n",
        "        assert linear_layers, \\\n",
        "        ('No linear layers found. Linear layers should be parameters of the network or they '\n",
        "        'should be placed in a ModuleList which is a parameter of the network.')\n",
        "        return linear_layers\n",
        "\n",
        "    def get_epochs_for_one_layer(self):\n",
        "        \"\"\"\n",
        "        We want to show gradient distributions from up to 7 selected epochs\n",
        "        for one linear layer.\n",
        "        \"\"\"\n",
        "        if self.num_epochs < 7:\n",
        "            return list(range(self.num_epochs))\n",
        "        else:\n",
        "            return torch.linspace(0, self.num_epochs - 1, 7).int().tolist()\n",
        "\n",
        "    def get_three_epochs(self):\n",
        "        \"\"\"\n",
        "        We want to show gradients distributions from all layers at each of\n",
        "        three epochs: first, middle and last.\n",
        "        \"\"\"\n",
        "        return [0, self.num_epochs // 2, self.num_epochs - 1]\n",
        "\n",
        "    def rgb_to_rgba(self, rgb_color, epoch):\n",
        "        \"\"\"\n",
        "        Value of epoch parameter determines how transparent color should be\n",
        "        in comparison to others.\n",
        "        Colors for earlier epochs should be more transparent/less visible.\n",
        "        \"\"\"\n",
        "        return f'rgba{rgb_color[3:-1]},{0.6 * (epoch + 1) / self.num_epochs + 0.15})'\n",
        "\n",
        "    def init_figures(self):\n",
        "        # Initialize figure with gradient to weight ratio plot\n",
        "        fig = go.Figure()\n",
        "        fig.update_layout(\n",
        "            title='Gradient standard deviation to weight standard deviation ratio', title_x=0.5,\n",
        "            xaxis_title='Epoch',\n",
        "            yaxis_title='Gradient to weight ratio (log scale)',\n",
        "            height=400, width=1500, margin=dict(b=10, t=60)\n",
        "        )\n",
        "        fig.update_yaxes(type='log')\n",
        "        for i in range(len(self.linear_layers)):\n",
        "            fig.add_trace(go.Scatter(\n",
        "                x=[], y=[],\n",
        "                mode='lines+markers', name=f'Linear layer {i}'\n",
        "            ))\n",
        "\n",
        "        self.grad_to_weight_fig = go.FigureWidget(fig)\n",
        "        display(self.grad_to_weight_fig)\n",
        "\n",
        "        # Initialize figure visualizing gradient distributions in layers\n",
        "        num_rows = (len(self.linear_layers) - 1) // 3 + 1\n",
        "        fig = make_subplots(\n",
        "            rows=num_rows, cols=3,\n",
        "            subplot_titles=[f'Linear layer {i}' for i in range(len(self.linear_layers))],\n",
        "            vertical_spacing=0.2 / num_rows\n",
        "        )\n",
        "        fig.update_layout(\n",
        "            title='Comparison between epochs of gradient distributions in layers', title_x=0.5,\n",
        "            height=num_rows * 400, width=1500, margin=dict(b=10, t=60)\n",
        "        )\n",
        "\n",
        "        colors, _ = px.colors.convert_colors_to_same_type(2 * px.colors.qualitative.Plotly)\n",
        "        for layer_num in range(len(self.linear_layers)):\n",
        "            row = layer_num // 3 + 1\n",
        "            col = layer_num % 3 + 1\n",
        "            fig.update_xaxes(\n",
        "                title_text='Gradient value', range=(-0.1, 0.1), row=row, col=col\n",
        "            )\n",
        "            fig.update_yaxes(\n",
        "                title_text='Density (log scale)', type='log', row=row, col=col\n",
        "            )\n",
        "\n",
        "            # Create empty traces and update them later with actual gradient distributions.\n",
        "            # Unfortunately, we cannot add new traces dynamically because Colab has problem\n",
        "            # with widgets from plotly (traces added dynamically are rendered twice).\n",
        "            for epoch in self.get_epochs_for_one_layer():\n",
        "                fig.add_trace(\n",
        "                    go.Scatter(\n",
        "                        mode='lines', name=f'Epoch {epoch + 1}',\n",
        "                        line=dict(color=self.rgb_to_rgba(colors[layer_num], epoch)),\n",
        "                        legendgroup=layer_num\n",
        "                    ),\n",
        "                    row=row, col=col\n",
        "                )\n",
        "\n",
        "        self.grads_in_layers_fig = go.FigureWidget(fig)\n",
        "        display(self.grads_in_layers_fig)\n",
        "\n",
        "        # Initialize figure comparing gradient distributions between layers at the\n",
        "        # first, middle and last epoch\n",
        "        selected_epochs_indices = self.get_three_epochs()\n",
        "        fig = make_subplots(\n",
        "            rows=1, cols=3,\n",
        "            subplot_titles=[f'Epoch {epoch + 1}' for epoch in selected_epochs_indices]\n",
        "        )\n",
        "        fig.update_layout(\n",
        "            title='Comparison between layers of gradient distributions at epochs', title_x=0.5,\n",
        "            height=400, width=1500, margin=dict(b=10, t=60)\n",
        "        )\n",
        "\n",
        "        for col, epoch in enumerate(selected_epochs_indices, 1):\n",
        "            fig.update_yaxes(title_text='Density (log scale)', type='log', row=1, col=col)\n",
        "            fig.update_xaxes(\n",
        "                title_text='Gradient value',\n",
        "                range=(-0.05, 0.05) if epoch != 0 else (-1, 1),\n",
        "                row=1, col=col\n",
        "            )\n",
        "\n",
        "            # Create empty traces and update them later with actual gradient distributions.\n",
        "            for layer_num in range(len(self.linear_layers)):\n",
        "                fig.append_trace(\n",
        "                    go.Scatter(\n",
        "                        mode='lines', name=f'Linear layer {layer_num}',\n",
        "                        line=dict(color=colors[layer_num]), showlegend=(col == 1)\n",
        "                    ),\n",
        "                    row=1, col=col\n",
        "                )\n",
        "\n",
        "        self.grads_at_epochs_fig = go.FigureWidget(fig)\n",
        "        display(self.grads_at_epochs_fig)\n",
        "\n",
        "    def visualize_gradients(self, lr, epoch, batch_idx):\n",
        "        # It is enough to use gradients calculated for the first batch.\n",
        "        if batch_idx != 0:\n",
        "            return\n",
        "\n",
        "        epoch_grads = []\n",
        "        epoch_grad_to_weight_ratios = []\n",
        "        for layer in self.linear_layers:\n",
        "            epoch_grads.append(layer.weight.grad.flatten().detach())\n",
        "            epoch_grad_to_weight_ratios.append(\n",
        "                (lr * layer.weight.grad.std() / layer.weight.std()).item()\n",
        "            )\n",
        "\n",
        "        # Update figure with gradient to weight ratio plot\n",
        "        for i, grad_to_weight_ratio in enumerate(epoch_grad_to_weight_ratios):\n",
        "            x = self.grad_to_weight_fig.data[i].x\n",
        "            next_x_val = x[-1] + 1 if x else 1\n",
        "            self.grad_to_weight_fig.data[i].x += (next_x_val, )\n",
        "            self.grad_to_weight_fig.data[i].y += (grad_to_weight_ratio, )\n",
        "\n",
        "        # Update figure visualizing gradient distributions in layers\n",
        "        selected_epochs = self.get_epochs_for_one_layer()\n",
        "        if epoch in selected_epochs:\n",
        "            epoch_idx = selected_epochs.index(epoch)\n",
        "            for layer_num, layer_grad in enumerate(epoch_grads):\n",
        "                trace_idx = layer_num * len(selected_epochs) + epoch_idx\n",
        "                hy, hx = torch.histogram(layer_grad, bins=50, density=True)\n",
        "                hy = hy / max(hy) + 0.001\n",
        "                self.grads_in_layers_fig.data[trace_idx].x = hx[:-1].tolist()\n",
        "                self.grads_in_layers_fig.data[trace_idx].y = hy.tolist()\n",
        "\n",
        "        # Update figure visualizing gradient distributions at epochs\n",
        "        selected_epochs = self.get_three_epochs()\n",
        "        if epoch in selected_epochs:\n",
        "            epoch_idx = selected_epochs.index(epoch)\n",
        "            for layer_num, layer_grad in enumerate(epoch_grads):\n",
        "                trace_idx = epoch_idx * len(self.linear_layers) + layer_num\n",
        "                hy, hx = torch.histogram(layer_grad, bins=50, density=True)\n",
        "                hy = hy / max(hy) + 0.001\n",
        "                self.grads_at_epochs_fig.data[trace_idx].x = hx[:-1].tolist()\n",
        "                self.grads_at_epochs_fig.data[trace_idx].y = hy.tolist()"
      ]
    },
    {
      "cell_type": "code",
      "metadata": {
        "id": "DMtap4QCfBH8"
      },
      "source": [
        "class Linear(torch.nn.Module):\n",
        "    def __init__(self, in_features, out_features):\n",
        "        super(Linear, self).__init__()\n",
        "        self.in_features = in_features\n",
        "        self.out_features = out_features\n",
        "        self.weight = Parameter(torch.Tensor(out_features, in_features))\n",
        "        self.bias = Parameter(torch.Tensor(out_features))\n",
        "        self.reset_parameters()\n",
        "\n",
        "    def reset_parameters(self):\n",
        "        self.weight.data.normal_(mean=0,std=math.sqrt(2/(self.in_features + self.out_features))) # math.sqrt(2/(self.in_features + self.out_features))\n",
        "        init.zeros_(self.bias)\n",
        "\n",
        "    def forward(self, x):\n",
        "        r = x.matmul(self.weight.t())\n",
        "        r += self.bias\n",
        "        return r\n",
        "\n",
        "\n",
        "class Net(nn.Module):\n",
        "    def __init__(self):\n",
        "        super(Net, self).__init__()\n",
        "        self.fc1 = Linear(784, 64)\n",
        "        self.fc2 = Linear(64, 64)\n",
        "        self.fc3 = Linear(64, 64)\n",
        "        self.fc4 = Linear(64, 64)\n",
        "        self.fc5 = Linear(64, 64)\n",
        "        self.fc6 = Linear(64, 10)\n",
        "\n",
        "    def dropout(self, x):\n",
        "      for i in range(len(x)):\n",
        "        x[i] = 0 if np.random.random() < 1/2 else x[i]/(1-p)\n",
        "      return x\n",
        "\n",
        "\n",
        "    def forward(self, x):\n",
        "        x = x.view(-1, 28 * 28)\n",
        "        x = F.relu(self.fc1(x))\n",
        "        x = self.dropout(x)\n",
        "        x = F.relu(self.fc2(x))\n",
        "        x = self.dropout(x)\n",
        "        x = F.relu(self.fc3(x))\n",
        "        x = self.dropout(x)\n",
        "        x = F.relu(self.fc4(x))\n",
        "        x = self.dropout(x)\n",
        "        x = F.relu(self.fc5(x))\n",
        "        x = self.dropout(x)\n",
        "        x = self.fc6(x)\n",
        "        return x\n"
      ],
      "execution_count": 74,
      "outputs": []
    },
    {
      "cell_type": "code",
      "metadata": {
        "id": "WgfUP23AfBMd"
      },
      "source": [
        "class MnistTrainer(object):\n",
        "    def __init__(self, batch_size):\n",
        "        transform = transforms.Compose(\n",
        "                [transforms.ToTensor()])\n",
        "        self.trainset = torchvision.datasets.MNIST(\n",
        "            root='./data',\n",
        "            download=True,\n",
        "            train=True,\n",
        "            transform=transform)\n",
        "        self.trainloader = torch.utils.data.DataLoader(\n",
        "            self.trainset, batch_size=batch_size, shuffle=True, num_workers=2)\n",
        "\n",
        "        self.testset = torchvision.datasets.MNIST(\n",
        "            root='./data',\n",
        "            train=False,\n",
        "            download=True, transform=transform)\n",
        "        self.testloader = torch.utils.data.DataLoader(\n",
        "            self.testset, batch_size=1, shuffle=False, num_workers=2)\n",
        "\n",
        "    def train(self, net, gradient_visualizer, epochs=20, lr=0.05, momentum=0.9):\n",
        "        criterion = nn.CrossEntropyLoss()\n",
        "        optimizer = optim.SGD(net.parameters(), lr=lr, momentum=momentum)\n",
        "\n",
        "        for epoch in range(epochs):\n",
        "            running_loss = 0.0\n",
        "            for i, data in enumerate(self.trainloader):\n",
        "                inputs, labels = data\n",
        "                optimizer.zero_grad()\n",
        "\n",
        "                outputs = net(inputs)\n",
        "                loss = criterion(outputs, labels)\n",
        "                loss.backward()\n",
        "                gradient_visualizer.visualize_gradients(lr, epoch, i)\n",
        "                optimizer.step()\n",
        "\n",
        "                running_loss += loss.item()\n",
        "                if i % 100 == 99:\n",
        "                    print('[%d, %5d] loss: %.3f' %\n",
        "                          (epoch + 1, i + 1, running_loss / 100))\n",
        "                    running_loss = 0.0\n",
        "            correct = 0\n",
        "            total = 0\n",
        "            with torch.no_grad():\n",
        "                for data in self.testloader:\n",
        "                    images, labels = data\n",
        "                    outputs = net(images)\n",
        "                    _, predicted = torch.max(outputs.data, 1)\n",
        "                    total += labels.size(0)\n",
        "                    correct += (predicted == labels).sum().item()\n",
        "\n",
        "            print('Accuracy of the network on the {} test images: {} %'.format(\n",
        "                total, 100 * correct / total))"
      ],
      "execution_count": 76,
      "outputs": []
    },
    {
      "cell_type": "code",
      "source": [
        "epochs = 20\n",
        "\n",
        "net = Net()\n",
        "gradient_visualizer = GradientVisualizer(net, epochs)"
      ],
      "metadata": {
        "id": "wO3ooSNUHiQz",
        "outputId": "f691cf19-a937-4078-864f-78ba2e4ee0cd",
        "colab": {
          "base_uri": "https://localhost:8080/",
          "height": 1000,
          "referenced_widgets": [
            "8dcf9fb2e17f430292f3d01a932ff97b",
            "32fc467bbff94338a8fec068cebe488c",
            "ca0096db602d4dff97ecfb6616e317db"
          ]
        }
      },
      "execution_count": 77,
      "outputs": [
        {
          "output_type": "display_data",
          "data": {
            "application/vnd.jupyter.widget-view+json": {
              "version_major": 2,
              "version_minor": 0,
              "model_id": "8dcf9fb2e17f430292f3d01a932ff97b"
            },
            "text/plain": [
              "FigureWidget({\n",
              "    'data': [{'mode': 'lines+markers',\n",
              "              'name': 'Linear layer 0',\n",
              "              'type': 'scatter',\n",
              "              'uid': 'cec861e2-bd02-47dd-95fb-624873874d88',\n",
              "              'x': [],\n",
              "              'y': []},\n",
              "             {'mode': 'lines+markers',\n",
              "              'name': 'Linear layer 1',\n",
              "              'type': 'scatter',\n",
              "              'uid': '19151c06-730f-4966-a5fd-7dab9404c3d4',\n",
              "              'x': [],\n",
              "              'y': []},\n",
              "             {'mode': 'lines+markers',\n",
              "              'name': 'Linear layer 2',\n",
              "              'type': 'scatter',\n",
              "              'uid': '6f262a2f-1f0c-4cc0-b50e-88bc3115b2bf',\n",
              "              'x': [],\n",
              "              'y': []},\n",
              "             {'mode': 'lines+markers',\n",
              "              'name': 'Linear layer 3',\n",
              "              'type': 'scatter',\n",
              "              'uid': 'a50ea9b5-089a-496b-91df-6c7a8c6f7166',\n",
              "              'x': [],\n",
              "              'y': []},\n",
              "             {'mode': 'lines+markers',\n",
              "              'name': 'Linear layer 4',\n",
              "              'type': 'scatter',\n",
              "              'uid': '7d47f521-894e-478b-a70c-5252344487cd',\n",
              "              'x': [],\n",
              "              'y': []},\n",
              "             {'mode': 'lines+markers',\n",
              "              'name': 'Linear layer 5',\n",
              "              'type': 'scatter',\n",
              "              'uid': 'c9a076a3-2ad5-49d9-bce5-a90154932693',\n",
              "              'x': [],\n",
              "              'y': []}],\n",
              "    'layout': {'height': 400,\n",
              "               'margin': {'b': 10, 't': 60},\n",
              "               'template': '...',\n",
              "               'title': {'text': 'Gradient standard deviation to weight standard deviation ratio', 'x': 0.5},\n",
              "               'width': 1500,\n",
              "               'xaxis': {'title': {'text': 'Epoch'}},\n",
              "               'yaxis': {'title': {'text': 'Gradient to weight ratio (log scale)'}, 'type': 'log'}}\n",
              "})"
            ]
          },
          "metadata": {
            "application/vnd.jupyter.widget-view+json": {
              "colab": {
                "custom_widget_manager": {
                  "url": "https://ssl.gstatic.com/colaboratory-static/widgets/colab-cdn-widget-manager/2b70e893a8ba7c0f/manager.min.js"
                }
              }
            }
          }
        },
        {
          "output_type": "display_data",
          "data": {
            "application/vnd.jupyter.widget-view+json": {
              "version_major": 2,
              "version_minor": 0,
              "model_id": "32fc467bbff94338a8fec068cebe488c"
            },
            "text/plain": [
              "FigureWidget({\n",
              "    'data': [{'legendgroup': '0',\n",
              "              'line': {'color': 'rgba(99, 110, 250,0.18)'},\n",
              "              'mode': 'lines',\n",
              "              'name': 'Epoch 1',\n",
              "              'type': 'scatter',\n",
              "              'uid': '0b6d2d44-a560-4832-9439-381d2d1d8007',\n",
              "              'xaxis': 'x',\n",
              "              'yaxis': 'y'},\n",
              "             {'legendgroup': '0',\n",
              "              'line': {'color': 'rgba(99, 110, 250,0.27)'},\n",
              "              'mode': 'lines',\n",
              "              'name': 'Epoch 4',\n",
              "              'type': 'scatter',\n",
              "              'uid': '9fe4d806-6887-40ec-8093-43047f48b6da',\n",
              "              'xaxis': 'x',\n",
              "              'yaxis': 'y'},\n",
              "             {'legendgroup': '0',\n",
              "              'line': {'color': 'rgba(99, 110, 250,0.36)'},\n",
              "              'mode': 'lines',\n",
              "              'name': 'Epoch 7',\n",
              "              'type': 'scatter',\n",
              "              'uid': 'ccb566d6-6830-4411-9e9a-86c090b186fa',\n",
              "              'xaxis': 'x',\n",
              "              'yaxis': 'y'},\n",
              "             {'legendgroup': '0',\n",
              "              'line': {'color': 'rgba(99, 110, 250,0.44999999999999996)'},\n",
              "              'mode': 'lines',\n",
              "              'name': 'Epoch 10',\n",
              "              'type': 'scatter',\n",
              "              'uid': '20099f2d-eeb1-40f6-8897-4d00e72dde3f',\n",
              "              'xaxis': 'x',\n",
              "              'yaxis': 'y'},\n",
              "             {'legendgroup': '0',\n",
              "              'line': {'color': 'rgba(99, 110, 250,0.54)'},\n",
              "              'mode': 'lines',\n",
              "              'name': 'Epoch 13',\n",
              "              'type': 'scatter',\n",
              "              'uid': '591f756e-980c-40bd-ab78-30e444096bed',\n",
              "              'xaxis': 'x',\n",
              "              'yaxis': 'y'},\n",
              "             {'legendgroup': '0',\n",
              "              'line': {'color': 'rgba(99, 110, 250,0.63)'},\n",
              "              'mode': 'lines',\n",
              "              'name': 'Epoch 16',\n",
              "              'type': 'scatter',\n",
              "              'uid': '3f2d1f72-fce7-4f94-9d9d-bf1bf9be6f96',\n",
              "              'xaxis': 'x',\n",
              "              'yaxis': 'y'},\n",
              "             {'legendgroup': '0',\n",
              "              'line': {'color': 'rgba(99, 110, 250,0.75)'},\n",
              "              'mode': 'lines',\n",
              "              'name': 'Epoch 20',\n",
              "              'type': 'scatter',\n",
              "              'uid': 'cb87ce94-dd0c-4c26-a72d-0b7860a288b9',\n",
              "              'xaxis': 'x',\n",
              "              'yaxis': 'y'},\n",
              "             {'legendgroup': '1',\n",
              "              'line': {'color': 'rgba(239, 85, 59,0.18)'},\n",
              "              'mode': 'lines',\n",
              "              'name': 'Epoch 1',\n",
              "              'type': 'scatter',\n",
              "              'uid': '7d848f53-bd9b-4071-8f17-0bd9ca43b468',\n",
              "              'xaxis': 'x2',\n",
              "              'yaxis': 'y2'},\n",
              "             {'legendgroup': '1',\n",
              "              'line': {'color': 'rgba(239, 85, 59,0.27)'},\n",
              "              'mode': 'lines',\n",
              "              'name': 'Epoch 4',\n",
              "              'type': 'scatter',\n",
              "              'uid': '6d326d81-5aac-41c5-a75d-e9a1d47a0eaf',\n",
              "              'xaxis': 'x2',\n",
              "              'yaxis': 'y2'},\n",
              "             {'legendgroup': '1',\n",
              "              'line': {'color': 'rgba(239, 85, 59,0.36)'},\n",
              "              'mode': 'lines',\n",
              "              'name': 'Epoch 7',\n",
              "              'type': 'scatter',\n",
              "              'uid': '3094f5f8-669c-4edd-af10-007717beaa78',\n",
              "              'xaxis': 'x2',\n",
              "              'yaxis': 'y2'},\n",
              "             {'legendgroup': '1',\n",
              "              'line': {'color': 'rgba(239, 85, 59,0.44999999999999996)'},\n",
              "              'mode': 'lines',\n",
              "              'name': 'Epoch 10',\n",
              "              'type': 'scatter',\n",
              "              'uid': 'e7d38daa-49c9-4858-a640-7dfe26b19726',\n",
              "              'xaxis': 'x2',\n",
              "              'yaxis': 'y2'},\n",
              "             {'legendgroup': '1',\n",
              "              'line': {'color': 'rgba(239, 85, 59,0.54)'},\n",
              "              'mode': 'lines',\n",
              "              'name': 'Epoch 13',\n",
              "              'type': 'scatter',\n",
              "              'uid': '3de0c5f2-27af-45bc-bf34-b310ad99b2ec',\n",
              "              'xaxis': 'x2',\n",
              "              'yaxis': 'y2'},\n",
              "             {'legendgroup': '1',\n",
              "              'line': {'color': 'rgba(239, 85, 59,0.63)'},\n",
              "              'mode': 'lines',\n",
              "              'name': 'Epoch 16',\n",
              "              'type': 'scatter',\n",
              "              'uid': '40687501-1ec1-4df0-9604-d09260471dec',\n",
              "              'xaxis': 'x2',\n",
              "              'yaxis': 'y2'},\n",
              "             {'legendgroup': '1',\n",
              "              'line': {'color': 'rgba(239, 85, 59,0.75)'},\n",
              "              'mode': 'lines',\n",
              "              'name': 'Epoch 20',\n",
              "              'type': 'scatter',\n",
              "              'uid': '9c678e00-121a-4c14-95f3-67330066c8f3',\n",
              "              'xaxis': 'x2',\n",
              "              'yaxis': 'y2'},\n",
              "             {'legendgroup': '2',\n",
              "              'line': {'color': 'rgba(0, 204, 150,0.18)'},\n",
              "              'mode': 'lines',\n",
              "              'name': 'Epoch 1',\n",
              "              'type': 'scatter',\n",
              "              'uid': '2b03730d-38b0-4906-8643-14b9757a3919',\n",
              "              'xaxis': 'x3',\n",
              "              'yaxis': 'y3'},\n",
              "             {'legendgroup': '2',\n",
              "              'line': {'color': 'rgba(0, 204, 150,0.27)'},\n",
              "              'mode': 'lines',\n",
              "              'name': 'Epoch 4',\n",
              "              'type': 'scatter',\n",
              "              'uid': '12879bf1-fa0f-4d04-8483-74a78511f914',\n",
              "              'xaxis': 'x3',\n",
              "              'yaxis': 'y3'},\n",
              "             {'legendgroup': '2',\n",
              "              'line': {'color': 'rgba(0, 204, 150,0.36)'},\n",
              "              'mode': 'lines',\n",
              "              'name': 'Epoch 7',\n",
              "              'type': 'scatter',\n",
              "              'uid': '6ab2f942-3b47-441e-ab9a-f6524740eb1a',\n",
              "              'xaxis': 'x3',\n",
              "              'yaxis': 'y3'},\n",
              "             {'legendgroup': '2',\n",
              "              'line': {'color': 'rgba(0, 204, 150,0.44999999999999996)'},\n",
              "              'mode': 'lines',\n",
              "              'name': 'Epoch 10',\n",
              "              'type': 'scatter',\n",
              "              'uid': '521b1d92-17fa-4403-8b35-2dfed2fbbb83',\n",
              "              'xaxis': 'x3',\n",
              "              'yaxis': 'y3'},\n",
              "             {'legendgroup': '2',\n",
              "              'line': {'color': 'rgba(0, 204, 150,0.54)'},\n",
              "              'mode': 'lines',\n",
              "              'name': 'Epoch 13',\n",
              "              'type': 'scatter',\n",
              "              'uid': '0872bd40-b0e7-4b15-8eaf-fcf17725be2e',\n",
              "              'xaxis': 'x3',\n",
              "              'yaxis': 'y3'},\n",
              "             {'legendgroup': '2',\n",
              "              'line': {'color': 'rgba(0, 204, 150,0.63)'},\n",
              "              'mode': 'lines',\n",
              "              'name': 'Epoch 16',\n",
              "              'type': 'scatter',\n",
              "              'uid': '01cfab70-510f-4e7c-8bcc-0cf93787ef32',\n",
              "              'xaxis': 'x3',\n",
              "              'yaxis': 'y3'},\n",
              "             {'legendgroup': '2',\n",
              "              'line': {'color': 'rgba(0, 204, 150,0.75)'},\n",
              "              'mode': 'lines',\n",
              "              'name': 'Epoch 20',\n",
              "              'type': 'scatter',\n",
              "              'uid': '2b2b8ae6-3c69-4b94-9c78-566cb11cf5dd',\n",
              "              'xaxis': 'x3',\n",
              "              'yaxis': 'y3'},\n",
              "             {'legendgroup': '3',\n",
              "              'line': {'color': 'rgba(171, 99, 250,0.18)'},\n",
              "              'mode': 'lines',\n",
              "              'name': 'Epoch 1',\n",
              "              'type': 'scatter',\n",
              "              'uid': '12f90b40-562d-4253-aced-9b271d1b167b',\n",
              "              'xaxis': 'x4',\n",
              "              'yaxis': 'y4'},\n",
              "             {'legendgroup': '3',\n",
              "              'line': {'color': 'rgba(171, 99, 250,0.27)'},\n",
              "              'mode': 'lines',\n",
              "              'name': 'Epoch 4',\n",
              "              'type': 'scatter',\n",
              "              'uid': '101fcb36-db73-4907-8f39-3232b2ee9d6f',\n",
              "              'xaxis': 'x4',\n",
              "              'yaxis': 'y4'},\n",
              "             {'legendgroup': '3',\n",
              "              'line': {'color': 'rgba(171, 99, 250,0.36)'},\n",
              "              'mode': 'lines',\n",
              "              'name': 'Epoch 7',\n",
              "              'type': 'scatter',\n",
              "              'uid': 'baab0d8b-ea9a-44f0-9033-c359066c3aed',\n",
              "              'xaxis': 'x4',\n",
              "              'yaxis': 'y4'},\n",
              "             {'legendgroup': '3',\n",
              "              'line': {'color': 'rgba(171, 99, 250,0.44999999999999996)'},\n",
              "              'mode': 'lines',\n",
              "              'name': 'Epoch 10',\n",
              "              'type': 'scatter',\n",
              "              'uid': '20daecb5-5232-4c04-a831-8e2a571ab2f0',\n",
              "              'xaxis': 'x4',\n",
              "              'yaxis': 'y4'},\n",
              "             {'legendgroup': '3',\n",
              "              'line': {'color': 'rgba(171, 99, 250,0.54)'},\n",
              "              'mode': 'lines',\n",
              "              'name': 'Epoch 13',\n",
              "              'type': 'scatter',\n",
              "              'uid': '6f522102-5c6a-43f9-bf05-087b2ae3f535',\n",
              "              'xaxis': 'x4',\n",
              "              'yaxis': 'y4'},\n",
              "             {'legendgroup': '3',\n",
              "              'line': {'color': 'rgba(171, 99, 250,0.63)'},\n",
              "              'mode': 'lines',\n",
              "              'name': 'Epoch 16',\n",
              "              'type': 'scatter',\n",
              "              'uid': 'a16a9269-c196-4c4f-b512-ebd315e10f05',\n",
              "              'xaxis': 'x4',\n",
              "              'yaxis': 'y4'},\n",
              "             {'legendgroup': '3',\n",
              "              'line': {'color': 'rgba(171, 99, 250,0.75)'},\n",
              "              'mode': 'lines',\n",
              "              'name': 'Epoch 20',\n",
              "              'type': 'scatter',\n",
              "              'uid': 'b35aca5f-fc60-4b56-81b3-3f4934a7f078',\n",
              "              'xaxis': 'x4',\n",
              "              'yaxis': 'y4'},\n",
              "             {'legendgroup': '4',\n",
              "              'line': {'color': 'rgba(255, 161, 90,0.18)'},\n",
              "              'mode': 'lines',\n",
              "              'name': 'Epoch 1',\n",
              "              'type': 'scatter',\n",
              "              'uid': '3c33efa4-f544-44c1-9f13-b8b503b742f5',\n",
              "              'xaxis': 'x5',\n",
              "              'yaxis': 'y5'},\n",
              "             {'legendgroup': '4',\n",
              "              'line': {'color': 'rgba(255, 161, 90,0.27)'},\n",
              "              'mode': 'lines',\n",
              "              'name': 'Epoch 4',\n",
              "              'type': 'scatter',\n",
              "              'uid': '9f6c1070-650d-4a4e-90f2-4c7c81da684d',\n",
              "              'xaxis': 'x5',\n",
              "              'yaxis': 'y5'},\n",
              "             {'legendgroup': '4',\n",
              "              'line': {'color': 'rgba(255, 161, 90,0.36)'},\n",
              "              'mode': 'lines',\n",
              "              'name': 'Epoch 7',\n",
              "              'type': 'scatter',\n",
              "              'uid': 'fd006d9f-94e8-44de-b773-595d069b7d78',\n",
              "              'xaxis': 'x5',\n",
              "              'yaxis': 'y5'},\n",
              "             {'legendgroup': '4',\n",
              "              'line': {'color': 'rgba(255, 161, 90,0.44999999999999996)'},\n",
              "              'mode': 'lines',\n",
              "              'name': 'Epoch 10',\n",
              "              'type': 'scatter',\n",
              "              'uid': '7fda44ee-b148-498a-80c6-3213d683b28b',\n",
              "              'xaxis': 'x5',\n",
              "              'yaxis': 'y5'},\n",
              "             {'legendgroup': '4',\n",
              "              'line': {'color': 'rgba(255, 161, 90,0.54)'},\n",
              "              'mode': 'lines',\n",
              "              'name': 'Epoch 13',\n",
              "              'type': 'scatter',\n",
              "              'uid': 'fb4158b4-1248-4654-88d7-72dc22b6bbca',\n",
              "              'xaxis': 'x5',\n",
              "              'yaxis': 'y5'},\n",
              "             {'legendgroup': '4',\n",
              "              'line': {'color': 'rgba(255, 161, 90,0.63)'},\n",
              "              'mode': 'lines',\n",
              "              'name': 'Epoch 16',\n",
              "              'type': 'scatter',\n",
              "              'uid': '78bfb4d0-62d7-4ca1-820e-9d2ca2ca0130',\n",
              "              'xaxis': 'x5',\n",
              "              'yaxis': 'y5'},\n",
              "             {'legendgroup': '4',\n",
              "              'line': {'color': 'rgba(255, 161, 90,0.75)'},\n",
              "              'mode': 'lines',\n",
              "              'name': 'Epoch 20',\n",
              "              'type': 'scatter',\n",
              "              'uid': 'eb447566-29af-4d9c-a4a5-1550d24e7a63',\n",
              "              'xaxis': 'x5',\n",
              "              'yaxis': 'y5'},\n",
              "             {'legendgroup': '5',\n",
              "              'line': {'color': 'rgba(25, 211, 243,0.18)'},\n",
              "              'mode': 'lines',\n",
              "              'name': 'Epoch 1',\n",
              "              'type': 'scatter',\n",
              "              'uid': '7a67d2bd-7002-44f1-afb7-a1b858841286',\n",
              "              'xaxis': 'x6',\n",
              "              'yaxis': 'y6'},\n",
              "             {'legendgroup': '5',\n",
              "              'line': {'color': 'rgba(25, 211, 243,0.27)'},\n",
              "              'mode': 'lines',\n",
              "              'name': 'Epoch 4',\n",
              "              'type': 'scatter',\n",
              "              'uid': 'fe8a2a6d-646c-4a4b-843b-fe9c1831e1ed',\n",
              "              'xaxis': 'x6',\n",
              "              'yaxis': 'y6'},\n",
              "             {'legendgroup': '5',\n",
              "              'line': {'color': 'rgba(25, 211, 243,0.36)'},\n",
              "              'mode': 'lines',\n",
              "              'name': 'Epoch 7',\n",
              "              'type': 'scatter',\n",
              "              'uid': 'cf474ed2-a58f-4e96-a96d-c4c67bc59298',\n",
              "              'xaxis': 'x6',\n",
              "              'yaxis': 'y6'},\n",
              "             {'legendgroup': '5',\n",
              "              'line': {'color': 'rgba(25, 211, 243,0.44999999999999996)'},\n",
              "              'mode': 'lines',\n",
              "              'name': 'Epoch 10',\n",
              "              'type': 'scatter',\n",
              "              'uid': 'b94eb7cb-f976-4b04-a246-354370267417',\n",
              "              'xaxis': 'x6',\n",
              "              'yaxis': 'y6'},\n",
              "             {'legendgroup': '5',\n",
              "              'line': {'color': 'rgba(25, 211, 243,0.54)'},\n",
              "              'mode': 'lines',\n",
              "              'name': 'Epoch 13',\n",
              "              'type': 'scatter',\n",
              "              'uid': '16b9e219-e305-49aa-800e-a0820bcaa301',\n",
              "              'xaxis': 'x6',\n",
              "              'yaxis': 'y6'},\n",
              "             {'legendgroup': '5',\n",
              "              'line': {'color': 'rgba(25, 211, 243,0.63)'},\n",
              "              'mode': 'lines',\n",
              "              'name': 'Epoch 16',\n",
              "              'type': 'scatter',\n",
              "              'uid': 'fb03cb0a-c951-4a2a-a130-fc2213e86ca4',\n",
              "              'xaxis': 'x6',\n",
              "              'yaxis': 'y6'},\n",
              "             {'legendgroup': '5',\n",
              "              'line': {'color': 'rgba(25, 211, 243,0.75)'},\n",
              "              'mode': 'lines',\n",
              "              'name': 'Epoch 20',\n",
              "              'type': 'scatter',\n",
              "              'uid': 'b2da2d59-0e91-41da-865d-c1ea406a646a',\n",
              "              'xaxis': 'x6',\n",
              "              'yaxis': 'y6'}],\n",
              "    'layout': {'annotations': [{'font': {'size': 16},\n",
              "                                'showarrow': False,\n",
              "                                'text': 'Linear layer 0',\n",
              "                                'x': 0.14444444444444446,\n",
              "                                'xanchor': 'center',\n",
              "                                'xref': 'paper',\n",
              "                                'y': 1.0,\n",
              "                                'yanchor': 'bottom',\n",
              "                                'yref': 'paper'},\n",
              "                               {'font': {'size': 16},\n",
              "                                'showarrow': False,\n",
              "                                'text': 'Linear layer 1',\n",
              "                                'x': 0.5,\n",
              "                                'xanchor': 'center',\n",
              "                                'xref': 'paper',\n",
              "                                'y': 1.0,\n",
              "                                'yanchor': 'bottom',\n",
              "                                'yref': 'paper'},\n",
              "                               {'font': {'size': 16},\n",
              "                                'showarrow': False,\n",
              "                                'text': 'Linear layer 2',\n",
              "                                'x': 0.8555555555555556,\n",
              "                                'xanchor': 'center',\n",
              "                                'xref': 'paper',\n",
              "                                'y': 1.0,\n",
              "                                'yanchor': 'bottom',\n",
              "                                'yref': 'paper'},\n",
              "                               {'font': {'size': 16},\n",
              "                                'showarrow': False,\n",
              "                                'text': 'Linear layer 3',\n",
              "                                'x': 0.14444444444444446,\n",
              "                                'xanchor': 'center',\n",
              "                                'xref': 'paper',\n",
              "                                'y': 0.45,\n",
              "                                'yanchor': 'bottom',\n",
              "                                'yref': 'paper'},\n",
              "                               {'font': {'size': 16},\n",
              "                                'showarrow': False,\n",
              "                                'text': 'Linear layer 4',\n",
              "                                'x': 0.5,\n",
              "                                'xanchor': 'center',\n",
              "                                'xref': 'paper',\n",
              "                                'y': 0.45,\n",
              "                                'yanchor': 'bottom',\n",
              "                                'yref': 'paper'},\n",
              "                               {'font': {'size': 16},\n",
              "                                'showarrow': False,\n",
              "                                'text': 'Linear layer 5',\n",
              "                                'x': 0.8555555555555556,\n",
              "                                'xanchor': 'center',\n",
              "                                'xref': 'paper',\n",
              "                                'y': 0.45,\n",
              "                                'yanchor': 'bottom',\n",
              "                                'yref': 'paper'}],\n",
              "               'height': 800,\n",
              "               'margin': {'b': 10, 't': 60},\n",
              "               'template': '...',\n",
              "               'title': {'text': 'Comparison between epochs of gradient distributions in layers', 'x': 0.5},\n",
              "               'width': 1500,\n",
              "               'xaxis': {'anchor': 'y',\n",
              "                         'domain': [0.0, 0.2888888888888889],\n",
              "                         'range': [-0.1, 0.1],\n",
              "                         'title': {'text': 'Gradient value'}},\n",
              "               'xaxis2': {'anchor': 'y2',\n",
              "                          'domain': [0.35555555555555557, 0.6444444444444445],\n",
              "                          'range': [-0.1, 0.1],\n",
              "                          'title': {'text': 'Gradient value'}},\n",
              "               'xaxis3': {'anchor': 'y3',\n",
              "                          'domain': [0.7111111111111111, 1.0],\n",
              "                          'range': [-0.1, 0.1],\n",
              "                          'title': {'text': 'Gradient value'}},\n",
              "               'xaxis4': {'anchor': 'y4',\n",
              "                          'domain': [0.0, 0.2888888888888889],\n",
              "                          'range': [-0.1, 0.1],\n",
              "                          'title': {'text': 'Gradient value'}},\n",
              "               'xaxis5': {'anchor': 'y5',\n",
              "                          'domain': [0.35555555555555557, 0.6444444444444445],\n",
              "                          'range': [-0.1, 0.1],\n",
              "                          'title': {'text': 'Gradient value'}},\n",
              "               'xaxis6': {'anchor': 'y6',\n",
              "                          'domain': [0.7111111111111111, 1.0],\n",
              "                          'range': [-0.1, 0.1],\n",
              "                          'title': {'text': 'Gradient value'}},\n",
              "               'yaxis': {'anchor': 'x', 'domain': [0.55, 1.0], 'title': {'text': 'Density (log scale)'}, 'type': 'log'},\n",
              "               'yaxis2': {'anchor': 'x2', 'domain': [0.55, 1.0], 'title': {'text': 'Density (log scale)'}, 'type': 'log'},\n",
              "               'yaxis3': {'anchor': 'x3', 'domain': [0.55, 1.0], 'title': {'text': 'Density (log scale)'}, 'type': 'log'},\n",
              "               'yaxis4': {'anchor': 'x4', 'domain': [0.0, 0.45], 'title': {'text': 'Density (log scale)'}, 'type': 'log'},\n",
              "               'yaxis5': {'anchor': 'x5', 'domain': [0.0, 0.45], 'title': {'text': 'Density (log scale)'}, 'type': 'log'},\n",
              "               'yaxis6': {'anchor': 'x6', 'domain': [0.0, 0.45], 'title': {'text': 'Density (log scale)'}, 'type': 'log'}}\n",
              "})"
            ]
          },
          "metadata": {
            "application/vnd.jupyter.widget-view+json": {
              "colab": {
                "custom_widget_manager": {
                  "url": "https://ssl.gstatic.com/colaboratory-static/widgets/colab-cdn-widget-manager/2b70e893a8ba7c0f/manager.min.js"
                }
              }
            }
          }
        },
        {
          "output_type": "display_data",
          "data": {
            "application/vnd.jupyter.widget-view+json": {
              "version_major": 2,
              "version_minor": 0,
              "model_id": "ca0096db602d4dff97ecfb6616e317db"
            },
            "text/plain": [
              "FigureWidget({\n",
              "    'data': [{'line': {'color': 'rgb(99, 110, 250)'},\n",
              "              'mode': 'lines',\n",
              "              'name': 'Linear layer 0',\n",
              "              'showlegend': True,\n",
              "              'type': 'scatter',\n",
              "              'uid': '37511482-379e-4623-9c27-490b1686b8f6',\n",
              "              'xaxis': 'x',\n",
              "              'yaxis': 'y'},\n",
              "             {'line': {'color': 'rgb(239, 85, 59)'},\n",
              "              'mode': 'lines',\n",
              "              'name': 'Linear layer 1',\n",
              "              'showlegend': True,\n",
              "              'type': 'scatter',\n",
              "              'uid': 'a46b63f9-fedc-4ac3-bd5f-9086c7bdcd74',\n",
              "              'xaxis': 'x',\n",
              "              'yaxis': 'y'},\n",
              "             {'line': {'color': 'rgb(0, 204, 150)'},\n",
              "              'mode': 'lines',\n",
              "              'name': 'Linear layer 2',\n",
              "              'showlegend': True,\n",
              "              'type': 'scatter',\n",
              "              'uid': 'f996caed-66d2-4178-b996-2999af535ad7',\n",
              "              'xaxis': 'x',\n",
              "              'yaxis': 'y'},\n",
              "             {'line': {'color': 'rgb(171, 99, 250)'},\n",
              "              'mode': 'lines',\n",
              "              'name': 'Linear layer 3',\n",
              "              'showlegend': True,\n",
              "              'type': 'scatter',\n",
              "              'uid': 'a538350e-d165-4997-9cf9-bf6014d712e4',\n",
              "              'xaxis': 'x',\n",
              "              'yaxis': 'y'},\n",
              "             {'line': {'color': 'rgb(255, 161, 90)'},\n",
              "              'mode': 'lines',\n",
              "              'name': 'Linear layer 4',\n",
              "              'showlegend': True,\n",
              "              'type': 'scatter',\n",
              "              'uid': '8d3bc796-eac6-4500-be01-bad96a69550c',\n",
              "              'xaxis': 'x',\n",
              "              'yaxis': 'y'},\n",
              "             {'line': {'color': 'rgb(25, 211, 243)'},\n",
              "              'mode': 'lines',\n",
              "              'name': 'Linear layer 5',\n",
              "              'showlegend': True,\n",
              "              'type': 'scatter',\n",
              "              'uid': '84d05404-b517-4430-9e23-01957583732f',\n",
              "              'xaxis': 'x',\n",
              "              'yaxis': 'y'},\n",
              "             {'line': {'color': 'rgb(99, 110, 250)'},\n",
              "              'mode': 'lines',\n",
              "              'name': 'Linear layer 0',\n",
              "              'showlegend': False,\n",
              "              'type': 'scatter',\n",
              "              'uid': '2ab2e56c-dd80-4d94-a183-79c6df3d6786',\n",
              "              'xaxis': 'x2',\n",
              "              'yaxis': 'y2'},\n",
              "             {'line': {'color': 'rgb(239, 85, 59)'},\n",
              "              'mode': 'lines',\n",
              "              'name': 'Linear layer 1',\n",
              "              'showlegend': False,\n",
              "              'type': 'scatter',\n",
              "              'uid': '8e4da738-3b27-4d34-bc82-9d5f18656aba',\n",
              "              'xaxis': 'x2',\n",
              "              'yaxis': 'y2'},\n",
              "             {'line': {'color': 'rgb(0, 204, 150)'},\n",
              "              'mode': 'lines',\n",
              "              'name': 'Linear layer 2',\n",
              "              'showlegend': False,\n",
              "              'type': 'scatter',\n",
              "              'uid': 'a80534cf-7e1b-4ee6-b5d8-8b92042c9604',\n",
              "              'xaxis': 'x2',\n",
              "              'yaxis': 'y2'},\n",
              "             {'line': {'color': 'rgb(171, 99, 250)'},\n",
              "              'mode': 'lines',\n",
              "              'name': 'Linear layer 3',\n",
              "              'showlegend': False,\n",
              "              'type': 'scatter',\n",
              "              'uid': '8792d5a6-5d2f-49c9-bd00-37bc717f75da',\n",
              "              'xaxis': 'x2',\n",
              "              'yaxis': 'y2'},\n",
              "             {'line': {'color': 'rgb(255, 161, 90)'},\n",
              "              'mode': 'lines',\n",
              "              'name': 'Linear layer 4',\n",
              "              'showlegend': False,\n",
              "              'type': 'scatter',\n",
              "              'uid': '154af063-eebf-4b99-a73c-93d2c193d984',\n",
              "              'xaxis': 'x2',\n",
              "              'yaxis': 'y2'},\n",
              "             {'line': {'color': 'rgb(25, 211, 243)'},\n",
              "              'mode': 'lines',\n",
              "              'name': 'Linear layer 5',\n",
              "              'showlegend': False,\n",
              "              'type': 'scatter',\n",
              "              'uid': '3224965c-1c51-4352-adbd-77ca0d2116df',\n",
              "              'xaxis': 'x2',\n",
              "              'yaxis': 'y2'},\n",
              "             {'line': {'color': 'rgb(99, 110, 250)'},\n",
              "              'mode': 'lines',\n",
              "              'name': 'Linear layer 0',\n",
              "              'showlegend': False,\n",
              "              'type': 'scatter',\n",
              "              'uid': '965cf457-3758-4040-a158-f4b9f27d6c16',\n",
              "              'xaxis': 'x3',\n",
              "              'yaxis': 'y3'},\n",
              "             {'line': {'color': 'rgb(239, 85, 59)'},\n",
              "              'mode': 'lines',\n",
              "              'name': 'Linear layer 1',\n",
              "              'showlegend': False,\n",
              "              'type': 'scatter',\n",
              "              'uid': '91cedf7d-03db-4b19-ad64-dc1f5d48899f',\n",
              "              'xaxis': 'x3',\n",
              "              'yaxis': 'y3'},\n",
              "             {'line': {'color': 'rgb(0, 204, 150)'},\n",
              "              'mode': 'lines',\n",
              "              'name': 'Linear layer 2',\n",
              "              'showlegend': False,\n",
              "              'type': 'scatter',\n",
              "              'uid': '31f945d1-44db-463a-a99b-f8fac2bda123',\n",
              "              'xaxis': 'x3',\n",
              "              'yaxis': 'y3'},\n",
              "             {'line': {'color': 'rgb(171, 99, 250)'},\n",
              "              'mode': 'lines',\n",
              "              'name': 'Linear layer 3',\n",
              "              'showlegend': False,\n",
              "              'type': 'scatter',\n",
              "              'uid': 'bc8c20b5-e89b-424b-be9c-89d74e4b853a',\n",
              "              'xaxis': 'x3',\n",
              "              'yaxis': 'y3'},\n",
              "             {'line': {'color': 'rgb(255, 161, 90)'},\n",
              "              'mode': 'lines',\n",
              "              'name': 'Linear layer 4',\n",
              "              'showlegend': False,\n",
              "              'type': 'scatter',\n",
              "              'uid': '7d28671b-e995-454c-8480-cb1878d386d4',\n",
              "              'xaxis': 'x3',\n",
              "              'yaxis': 'y3'},\n",
              "             {'line': {'color': 'rgb(25, 211, 243)'},\n",
              "              'mode': 'lines',\n",
              "              'name': 'Linear layer 5',\n",
              "              'showlegend': False,\n",
              "              'type': 'scatter',\n",
              "              'uid': '2a5ef9e4-279e-4a79-a798-47ef688617b3',\n",
              "              'xaxis': 'x3',\n",
              "              'yaxis': 'y3'}],\n",
              "    'layout': {'annotations': [{'font': {'size': 16},\n",
              "                                'showarrow': False,\n",
              "                                'text': 'Epoch 1',\n",
              "                                'x': 0.14444444444444446,\n",
              "                                'xanchor': 'center',\n",
              "                                'xref': 'paper',\n",
              "                                'y': 1.0,\n",
              "                                'yanchor': 'bottom',\n",
              "                                'yref': 'paper'},\n",
              "                               {'font': {'size': 16},\n",
              "                                'showarrow': False,\n",
              "                                'text': 'Epoch 11',\n",
              "                                'x': 0.5,\n",
              "                                'xanchor': 'center',\n",
              "                                'xref': 'paper',\n",
              "                                'y': 1.0,\n",
              "                                'yanchor': 'bottom',\n",
              "                                'yref': 'paper'},\n",
              "                               {'font': {'size': 16},\n",
              "                                'showarrow': False,\n",
              "                                'text': 'Epoch 20',\n",
              "                                'x': 0.8555555555555556,\n",
              "                                'xanchor': 'center',\n",
              "                                'xref': 'paper',\n",
              "                                'y': 1.0,\n",
              "                                'yanchor': 'bottom',\n",
              "                                'yref': 'paper'}],\n",
              "               'height': 400,\n",
              "               'margin': {'b': 10, 't': 60},\n",
              "               'template': '...',\n",
              "               'title': {'text': 'Comparison between layers of gradient distributions at epochs', 'x': 0.5},\n",
              "               'width': 1500,\n",
              "               'xaxis': {'anchor': 'y',\n",
              "                         'domain': [0.0, 0.2888888888888889],\n",
              "                         'range': [-1, 1],\n",
              "                         'title': {'text': 'Gradient value'}},\n",
              "               'xaxis2': {'anchor': 'y2',\n",
              "                          'domain': [0.35555555555555557, 0.6444444444444445],\n",
              "                          'range': [-0.05, 0.05],\n",
              "                          'title': {'text': 'Gradient value'}},\n",
              "               'xaxis3': {'anchor': 'y3',\n",
              "                          'domain': [0.7111111111111111, 1.0],\n",
              "                          'range': [-0.05, 0.05],\n",
              "                          'title': {'text': 'Gradient value'}},\n",
              "               'yaxis': {'anchor': 'x', 'domain': [0.0, 1.0], 'title': {'text': 'Density (log scale)'}, 'type': 'log'},\n",
              "               'yaxis2': {'anchor': 'x2', 'domain': [0.0, 1.0], 'title': {'text': 'Density (log scale)'}, 'type': 'log'},\n",
              "               'yaxis3': {'anchor': 'x3', 'domain': [0.0, 1.0], 'title': {'text': 'Density (log scale)'}, 'type': 'log'}}\n",
              "})"
            ]
          },
          "metadata": {
            "application/vnd.jupyter.widget-view+json": {
              "colab": {
                "custom_widget_manager": {
                  "url": "https://ssl.gstatic.com/colaboratory-static/widgets/colab-cdn-widget-manager/2b70e893a8ba7c0f/manager.min.js"
                }
              }
            }
          }
        }
      ]
    },
    {
      "cell_type": "code",
      "metadata": {
        "colab": {
          "base_uri": "https://localhost:8080/",
          "height": 1000
        },
        "id": "ezvIQbgsfBRT",
        "outputId": "08ade123-d34f-4e69-a97a-94cb62fc7ad4"
      },
      "source": [
        "trainer = MnistTrainer(batch_size=128)\n",
        "trainer.train(net, gradient_visualizer, epochs=epochs)"
      ],
      "execution_count": null,
      "outputs": [
        {
          "output_type": "stream",
          "name": "stdout",
          "text": [
            "[1,   100] loss: 1.815\n",
            "[1,   200] loss: 1.369\n",
            "[1,   300] loss: 1.332\n",
            "[1,   400] loss: 1.291\n",
            "Accuracy of the network on the 10000 test images: 51.95 %\n",
            "[2,   100] loss: 1.259\n",
            "[2,   200] loss: 1.267\n",
            "[2,   300] loss: 1.258\n",
            "[2,   400] loss: 1.237\n",
            "Accuracy of the network on the 10000 test images: 52.75 %\n",
            "[3,   100] loss: 1.225\n",
            "[3,   200] loss: 1.227\n",
            "[3,   300] loss: 1.224\n",
            "[3,   400] loss: 1.228\n",
            "Accuracy of the network on the 10000 test images: 51.82 %\n",
            "[4,   100] loss: 1.226\n",
            "[4,   200] loss: 1.202\n",
            "[4,   300] loss: 1.219\n",
            "[4,   400] loss: 1.224\n",
            "Accuracy of the network on the 10000 test images: 52.68 %\n",
            "[5,   100] loss: 1.207\n",
            "[5,   200] loss: 1.204\n",
            "[5,   300] loss: 1.192\n",
            "[5,   400] loss: 1.207\n",
            "Accuracy of the network on the 10000 test images: 52.69 %\n",
            "[6,   100] loss: 1.170\n",
            "[6,   200] loss: 1.212\n",
            "[6,   300] loss: 1.229\n",
            "[6,   400] loss: 1.207\n",
            "Accuracy of the network on the 10000 test images: 53.18 %\n",
            "[7,   100] loss: 1.210\n",
            "[7,   200] loss: 1.206\n",
            "[7,   300] loss: 1.190\n",
            "[7,   400] loss: 1.214\n",
            "Accuracy of the network on the 10000 test images: 52.6 %\n",
            "[8,   100] loss: 1.187\n",
            "[8,   200] loss: 1.191\n",
            "[8,   300] loss: 1.186\n",
            "[8,   400] loss: 1.191\n",
            "Accuracy of the network on the 10000 test images: 52.85 %\n",
            "[9,   100] loss: 1.188\n",
            "[9,   200] loss: 1.185\n",
            "[9,   300] loss: 1.168\n",
            "[9,   400] loss: 1.194\n",
            "Accuracy of the network on the 10000 test images: 53.45 %\n",
            "[10,   100] loss: 1.171\n",
            "[10,   200] loss: 1.163\n",
            "[10,   300] loss: 1.214\n",
            "[10,   400] loss: 1.198\n",
            "Accuracy of the network on the 10000 test images: 53.46 %\n",
            "[11,   100] loss: 1.169\n",
            "[11,   200] loss: 1.183\n",
            "[11,   300] loss: 1.185\n",
            "[11,   400] loss: 1.176\n",
            "Accuracy of the network on the 10000 test images: 53.98 %\n",
            "[12,   100] loss: 1.166\n",
            "[12,   200] loss: 1.184\n",
            "[12,   300] loss: 1.171\n",
            "[12,   400] loss: 1.192\n",
            "Accuracy of the network on the 10000 test images: 53.27 %\n",
            "[13,   100] loss: 1.183\n",
            "[13,   200] loss: 1.185\n",
            "[13,   300] loss: 1.182\n",
            "[13,   400] loss: 1.173\n",
            "Accuracy of the network on the 10000 test images: 53.59 %\n",
            "[14,   100] loss: 1.182\n",
            "[14,   200] loss: 1.165\n",
            "[14,   300] loss: 1.171\n",
            "[14,   400] loss: 1.190\n",
            "Accuracy of the network on the 10000 test images: 52.64 %\n",
            "[15,   100] loss: 1.189\n",
            "[15,   200] loss: 1.177\n",
            "[15,   300] loss: 1.184\n",
            "[15,   400] loss: 1.169\n",
            "Accuracy of the network on the 10000 test images: 52.62 %\n",
            "[16,   100] loss: 1.144\n",
            "[16,   200] loss: 1.168\n",
            "[16,   300] loss: 1.165\n",
            "[16,   400] loss: 1.179\n"
          ]
        }
      ]
    },
    {
      "cell_type": "code",
      "source": [],
      "metadata": {
        "id": "WcLr9uqmmXno"
      },
      "execution_count": null,
      "outputs": []
    }
  ]
}